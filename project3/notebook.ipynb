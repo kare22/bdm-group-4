{
 "cells": [
  {
   "cell_type": "code",
   "execution_count": 1,
   "id": "1d1b58d7-8adf-49e4-9feb-3f62ab176ecc",
   "metadata": {},
   "outputs": [],
   "source": [
    "import pyspark\n",
    "from delta import configure_spark_with_delta_pip\n",
    "\n",
    "# Prepare the Spark builder\n",
    "builder = pyspark.sql.SparkSession.builder.appName('Project 3') \\\n",
    "    .config(\"spark.driver.memory\", \"4g\") \\\n",
    "    .config(\"spark.executor.memory\", \"4g\") \\\n",
    "    .config(\"spark.sql.shuffle.partitions\", \"100\") \\\n",
    "    .config(\"spark.sql.extensions\", \"io.delta.sql.DeltaSparkSessionExtension\") \\\n",
    "    .config(\"spark.sql.catalog.spark_catalog\", \"org.apache.spark.sql.delta.catalog.DeltaCatalog\")\n",
    "\n",
    "spark = configure_spark_with_delta_pip(builder,extra_packages=[\"graphframes:graphframes:0.8.4-spark3.5-s_2.12\"]).getOrCreate()\n",
    "spark.conf.set(\"spark.sql.shuffle.partitions\", spark._sc.defaultParallelism)\n",
    "\n",
    "spark.conf.set(\"spark.sql.repl.eagerEval.enabled\",True) # OK for exploration, not great for performance\n",
    "spark.conf.set(\"spark.sql.repl.eagerEval.truncate\", 500)"
   ]
  },
  {
   "cell_type": "code",
   "execution_count": 2,
   "id": "c133d7a4-a13f-4e1e-85ff-1749240c2db0",
   "metadata": {},
   "outputs": [],
   "source": [
    "from graphframes import GraphFrame\n",
    "from pyspark.sql.functions import coalesce, col, lit, sum as sql_sum, when, count\n",
    "from pyspark.sql.functions import sum as spark_sum\n",
    "from pyspark.sql import Window"
   ]
  },
  {
   "cell_type": "code",
   "execution_count": 3,
   "id": "f3dea764-b45b-461b-a1d4-1c962ad58b8c",
   "metadata": {},
   "outputs": [],
   "source": [
    "df = spark.read.csv('./data/2009.csv', header=True)"
   ]
  },
  {
   "cell_type": "code",
   "execution_count": 4,
   "id": "be01b555-0ae5-43a4-a3ed-72a414d759f4",
   "metadata": {},
   "outputs": [],
   "source": [
    "# airports\n",
    "vertices = df.selectExpr(\"ORIGIN as id\").union(df.selectExpr(\"DEST as id\")).distinct()\n",
    "vertices.cache()\n",
    "\n",
    "# flight is a directed edge from start airport (ORIGIN) to destination airport (DEST)\n",
    "edges = df.selectExpr(\"ORIGIN as src\", \"DEST as dst\")\n",
    "edges.cache()\n",
    "\n",
    "gf = GraphFrame(vertices, edges)"
   ]
  },
  {
   "cell_type": "code",
   "execution_count": 5,
   "id": "2fb55094-01d0-4d16-8077-1313dcdf6136",
   "metadata": {},
   "outputs": [
    {
     "data": {
      "text/plain": [
       "GraphFrame(v:[id: string], e:[src: string, dst: string])"
      ]
     },
     "execution_count": 5,
     "metadata": {},
     "output_type": "execute_result"
    }
   ],
   "source": [
    "gf.persist()"
   ]
  },
  {
   "cell_type": "markdown",
   "id": "549edf9c-125b-4675-9b55-884034a3e9e7",
   "metadata": {},
   "source": [
    "## Query 1"
   ]
  },
  {
   "cell_type": "code",
   "execution_count": 6,
   "id": "d1a5af42-a8a6-4883-8341-7ef44fd897f5",
   "metadata": {},
   "outputs": [
    {
     "name": "stdout",
     "output_type": "stream",
     "text": [
      "True\n",
      "+---+--------+\n",
      "| id|inDegree|\n",
      "+---+--------+\n",
      "|JAX|   28813|\n",
      "|BOS|  110463|\n",
      "|MEM|   71721|\n",
      "|XNA|   13764|\n",
      "|BTV|    6021|\n",
      "|SYR|    9330|\n",
      "|JFK|  119571|\n",
      "|MBS|    3443|\n",
      "|SBN|    4527|\n",
      "|HPN|   10661|\n",
      "|EKO|    1416|\n",
      "|ANC|   17788|\n",
      "|VLD|    1046|\n",
      "|DAB|    2149|\n",
      "|EVV|    4761|\n",
      "|BGM|     677|\n",
      "|KTN|    2373|\n",
      "|WRG|     722|\n",
      "|MAF|    6526|\n",
      "|MIA|   63949|\n",
      "+---+--------+\n",
      "only showing top 20 rows\n",
      "\n"
     ]
    }
   ],
   "source": [
    "# count all flights from destination , rename columns\n",
    "in_degree = gf.edges.groupBy(\"dst\").count().withColumnRenamed(\"dst\", \"id\").withColumnRenamed(\"count\", \"inDegree\") # actual \n",
    "\n",
    "# add check to validate if they match \n",
    "in_degree_test = gf.inDegrees # for testing expected results\n",
    "\n",
    "comparison = in_degree_test.alias(\"expected\") \\\n",
    "    .join(in_degree.alias(\"actual\"), on=\"id\", how=\"outer\")\n",
    "\n",
    "in_degrees_match = comparison.filter(\n",
    "    \"expected.inDegree != actual.inDegree OR expected.inDegree IS NULL OR actual.inDegree IS NULL\"\n",
    ").count() == 0\n",
    "print(in_degrees_match)\n",
    "\n",
    "#in_degree.orderBy(\"inDegree\", ascending=True).show()\n",
    "in_degree.show()"
   ]
  },
  {
   "cell_type": "code",
   "execution_count": 7,
   "id": "2813a06e-82e6-46c5-9f6a-a643a1c831ee",
   "metadata": {},
   "outputs": [
    {
     "name": "stdout",
     "output_type": "stream",
     "text": [
      "True\n",
      "+---+---------+\n",
      "| id|outDegree|\n",
      "+---+---------+\n",
      "|JAX|    28810|\n",
      "|MEM|    71713|\n",
      "|BTV|     6028|\n",
      "|BOS|   110460|\n",
      "|XNA|    13755|\n",
      "|SYR|     9336|\n",
      "|JFK|   119574|\n",
      "|MBS|     3444|\n",
      "|SBN|     4526|\n",
      "|HPN|    10657|\n",
      "|EKO|     1416|\n",
      "|ANC|    17791|\n",
      "|VLD|     1046|\n",
      "|DAB|     2146|\n",
      "|EVV|     4761|\n",
      "|BGM|      678|\n",
      "|KTN|     2374|\n",
      "|WRG|      722|\n",
      "|MAF|     6523|\n",
      "|MIA|    63943|\n",
      "+---+---------+\n",
      "only showing top 20 rows\n",
      "\n"
     ]
    }
   ],
   "source": [
    "# count of flights from each origin, rename columns\n",
    "out_degree = gf.edges.groupBy(\"src\").count().withColumnRenamed(\"src\", \"id\").withColumnRenamed(\"count\", \"outDegree\")\n",
    "\n",
    "# check for validaiton if they match\n",
    "out_degree_test = gf.outDegrees # expected values\n",
    "\n",
    "comparison_out = out_degree_test.alias(\"expected\") \\\n",
    "    .join(out_degree.alias(\"actual\"), on=\"id\", how=\"outer\")\n",
    "\n",
    "out_degrees_match = comparison_out.filter(\n",
    "    \"expected.outDegree != actual.outDegree OR expected.outDegree IS NULL OR actual.outDegree IS NULL\"\n",
    ").count() == 0\n",
    "print(out_degrees_match)\n",
    "\n",
    "#out_degree.orderBy(\"outDegree\", ascending=True).show()\n",
    "out_degree.show()"
   ]
  },
  {
   "cell_type": "code",
   "execution_count": 8,
   "id": "112803af-00a7-4ac2-94fa-c104ab5a4e0f",
   "metadata": {},
   "outputs": [
    {
     "name": "stdout",
     "output_type": "stream",
     "text": [
      "+---+--------+---------+-----------+\n",
      "| id|inDegree|outDegree|totalDegree|\n",
      "+---+--------+---------+-----------+\n",
      "|ABE|    4037|     4034|       8071|\n",
      "|ABI|    2490|     2490|       4980|\n",
      "|ABQ|   35577|    35582|      71159|\n",
      "|ABY|     997|      995|       1992|\n",
      "|ACK|     343|      342|        685|\n",
      "|ACT|    1052|     1053|       2105|\n",
      "|ACV|    3364|     3370|       6734|\n",
      "|ACY|     522|      522|       1044|\n",
      "|ADK|     103|      103|        206|\n",
      "|ADQ|     631|      631|       1262|\n",
      "|AEX|    2948|     2947|       5895|\n",
      "|AGS|    3106|     3107|       6213|\n",
      "|AKN|      77|       77|        154|\n",
      "|ALB|   12020|    12018|      24038|\n",
      "|ALO|     331|      330|        661|\n",
      "|AMA|    6649|     6649|      13298|\n",
      "|ANC|   17788|    17791|      35579|\n",
      "|ASE|    4708|     4701|       9409|\n",
      "|ATL|  417457|   417449|     834906|\n",
      "|ATW|    5306|     5303|      10609|\n",
      "+---+--------+---------+-----------+\n",
      "only showing top 20 rows\n",
      "\n"
     ]
    }
   ],
   "source": [
    "# compute the total degree of each airport ( sum of in-degree and out-degree)\n",
    "degree = in_degree.join(out_degree, \"id\", \"outer\") \\\n",
    "    .withColumn(\"inDegree\", coalesce(in_degree[\"inDegree\"], pyspark.sql.functions.lit(0))) \\\n",
    "    .withColumn(\"outDegree\", coalesce(out_degree[\"outDegree\"], pyspark.sql.functions.lit(0))) \\\n",
    "    .withColumn(\"totalDegree\", pyspark.sql.functions.col(\"inDegree\") + pyspark.sql.functions.col(\"outDegree\"))\n",
    "\n",
    "#degree.orderBy(\"totalDegree\", ascending=True).show()\n",
    "degree.show()"
   ]
  },
  {
   "cell_type": "code",
   "execution_count": 9,
   "id": "f78a3cd8-637c-4659-863b-dce3f87edcf3",
   "metadata": {},
   "outputs": [
    {
     "name": "stdout",
     "output_type": "stream",
     "text": [
      "True\n",
      "+---+-----+\n",
      "| id|count|\n",
      "+---+-----+\n",
      "|BOS|  860|\n",
      "|ANC|  122|\n",
      "|BTV|   34|\n",
      "|JFK|  942|\n",
      "|JAX|  342|\n",
      "|MEM| 1105|\n",
      "|HPN|   36|\n",
      "|MBS|    6|\n",
      "|EVV|   15|\n",
      "|KTN|    4|\n",
      "|CWA|    3|\n",
      "|HLN|    8|\n",
      "|BOI|   88|\n",
      "|MIA|  728|\n",
      "|PHX| 1191|\n",
      "|SBA|   27|\n",
      "|MSO|   11|\n",
      "|FCA|   10|\n",
      "|MFR|   17|\n",
      "|PSP|   55|\n",
      "+---+-----+\n",
      "only showing top 20 rows\n",
      "\n"
     ]
    }
   ],
   "source": [
    "from pyspark.sql import functions as F\n",
    "# make sure direction doesn't matter\n",
    "edges_undirected = edges.select(\n",
    "    F.when(F.col(\"src\") < F.col(\"dst\"), F.col(\"src\")).otherwise(F.col(\"dst\")).alias(\"src\"),\n",
    "    F.when(F.col(\"src\") < F.col(\"dst\"), F.col(\"dst\")).otherwise(F.col(\"src\")).alias(\"dst\")\n",
    ").distinct()\n",
    "\n",
    "# find A -> B -> C, create three copies of edge list to use them for creating triangles\n",
    "e1 = edges_undirected.alias(\"e1\")\n",
    "e2 = edges_undirected.alias(\"e2\")\n",
    "e3 = edges_undirected.alias(\"e3\")\n",
    "\n",
    "# form the triangles\n",
    "triangles = (\n",
    "    e1.join(e2, F.col(\"e1.dst\") == F.col(\"e2.src\"))  # join to find flights from a - > b an b -> c\n",
    "      .join(e3, (F.col(\"e3.src\") == F.col(\"e1.src\")) & (F.col(\"e3.dst\") == F.col(\"e2.dst\")))  # join to check if there is edge between a -> c\n",
    "      .select(F.col(\"e1.src\").alias(\"a\"), F.col(\"e1.dst\").alias(\"b\"), F.col(\"e2.dst\").alias(\"c\")) # select nodes\n",
    "      .filter(\"a < b AND b < c\") # keep each triangle once\n",
    ")\n",
    "\n",
    "# count the triangles for each airport\n",
    "vertices_in_triangles = triangles.selectExpr(\"a as id\").union(triangles.selectExpr(\"b as id\")).union(triangles.selectExpr(\"c as id\"))\n",
    "triangles_actual = vertices_in_triangles.groupBy(\"id\") \\\n",
    "    .agg(F.count(\"*\").alias(\"count\"))  \n",
    "\n",
    "#check if matches with graphframes built in function\n",
    "triangles_test = gf.triangleCount()\n",
    "\n",
    "comparison = triangles_test.select(\"id\", F.col(\"count\").alias(\"test_count\")) \\\n",
    "    .join(triangles_actual.select(\"id\", F.col(\"count\").alias(\"actual_count\")), on=\"id\", how=\"outer\")\n",
    "are_equal = comparison.filter(F.col(\"test_count\") != F.col(\"actual_count\")).isEmpty()\n",
    "print(are_equal)\n",
    "\n",
    "#triangles_actual.orderBy(\"count\", ascending=False).show(truncate=False)\n",
    "triangles_actual.select(\"id\", \"count\").show()"
   ]
  },
  {
   "cell_type": "markdown",
   "id": "12f971b1-2fa0-4f68-ad52-5fa017bbf2d7",
   "metadata": {},
   "source": [
    "## Query 2"
   ]
  },
  {
   "cell_type": "code",
   "execution_count": 10,
   "id": "ac9ca9f1-2e30-4184-ad9d-5151c54a53e7",
   "metadata": {},
   "outputs": [
    {
     "name": "stdout",
     "output_type": "stream",
     "text": [
      "Total number of triangles calculated manually: 16015\n",
      "Expected total number of triangles: 16015\n"
     ]
    }
   ],
   "source": [
    "total_triangles = triangles_actual.select(spark_sum(\"count\")).first()[0] // 3 # divide by 3 as each triangle has 3 airports\n",
    "\n",
    "total_triangles_test = triangles_test.select(spark_sum(\"count\")).first()[0] // 3 # divide by 3 as each triangle has 3 airports\n",
    "\n",
    "print(f\"Total number of triangles calculated manually: {total_triangles}\")\n",
    "print(f\"Expected total number of triangles: {total_triangles_test}\")"
   ]
  },
  {
   "cell_type": "markdown",
   "id": "8353c8f2-c9b8-4002-8f76-4267e50c4707",
   "metadata": {},
   "source": [
    "## Query 3"
   ]
  },
  {
   "cell_type": "code",
   "execution_count": 11,
   "id": "4fdcfccf-ccce-4335-9fe8-f3c19352aea8",
   "metadata": {},
   "outputs": [],
   "source": [
    "# EigenCentrality\n",
    "## https://cambridge-intelligence.com/keylines-faqs-social-network-analysis/\n",
    "\n",
    "# Make undirected edges by adding reverse direction\n",
    "reversed_edges = edges.selectExpr(\"dst as src\", \"src as dst\")\n",
    "undirected_edges = edges.union(reversed_edges).distinct()\n",
    "\n",
    "scores = vertices.withColumn(\"score\", lit(1.0))"
   ]
  },
  {
   "cell_type": "code",
   "execution_count": 12,
   "id": "70c1999f-0dc5-4527-a23b-c815899e496d",
   "metadata": {},
   "outputs": [],
   "source": [
    "num_iterations = 10\n",
    "\n",
    "for i in range(num_iterations):\n",
    "    # Join edges with current scores\n",
    "    joined = undirected_edges.join(scores, undirected_edges.dst == scores.id, how=\"left\") \\\n",
    "                              .select(undirected_edges.src.alias(\"id\"), col(\"score\"))\n",
    "\n",
    "    # Sum neighbor scores to update each node\n",
    "    updated_scores = joined.groupBy(\"id\").agg(spark_sum(\"score\").alias(\"score\"))\n",
    "\n",
    "    # Normalize scores to prevent divergence (optional)\n",
    "    total = updated_scores.agg(spark_sum(\"score\")).first()[0]\n",
    "    normalized_scores = updated_scores.withColumn(\"score\", col(\"score\") / total)\n",
    "\n",
    "    # Update for next iteration\n",
    "    scores = normalized_scores"
   ]
  },
  {
   "cell_type": "code",
   "execution_count": 13,
   "id": "77ac36a7-6b23-42d2-baa8-4c77f530e918",
   "metadata": {},
   "outputs": [
    {
     "name": "stdout",
     "output_type": "stream",
     "text": [
      "+---+--------------------+\n",
      "| id|               score|\n",
      "+---+--------------------+\n",
      "|ATL|0.018765722188918116|\n",
      "|ORD|0.018108878438614258|\n",
      "|DFW|0.016941191132151725|\n",
      "|DTW| 0.01669891075140396|\n",
      "|DEN|0.016140351072366586|\n",
      "|MSP|0.016124197587719383|\n",
      "|IAH|0.015634522037957406|\n",
      "|CVG|0.015054412087523953|\n",
      "|EWR|0.014559829904750299|\n",
      "|LAS|0.014527065196091225|\n",
      "|PHX|0.014275998919980493|\n",
      "|MEM|0.014028033193475667|\n",
      "|MCO|0.013546284087077538|\n",
      "|CLT|0.013532499671015705|\n",
      "|LAX| 0.01323284686945521|\n",
      "|SLC|0.013181054625054962|\n",
      "|BWI|0.013131956958904989|\n",
      "|IAD|0.013019495597477422|\n",
      "|CLE|  0.0129345700134493|\n",
      "|PHL|0.012915917719506932|\n",
      "+---+--------------------+\n",
      "only showing top 20 rows\n",
      "\n"
     ]
    }
   ],
   "source": [
    "scores.orderBy(col(\"score\").desc()).show()"
   ]
  },
  {
   "cell_type": "markdown",
   "id": "ce4f9482-fc3a-48f4-aaf1-aa8b21179182",
   "metadata": {},
   "source": [
    "## Query 4"
   ]
  },
  {
   "cell_type": "code",
   "execution_count": 14,
   "id": "e9a9d84e-35e9-4020-971a-e6ad425267ee",
   "metadata": {},
   "outputs": [
    {
     "name": "stdout",
     "output_type": "stream",
     "text": [
      "+---+--------------------+\n",
      "| id|            pagerank|\n",
      "+---+--------------------+\n",
      "|ATL| 0.06589617957219522|\n",
      "|ORD|0.044602712562445204|\n",
      "|DFW| 0.04056298155959312|\n",
      "|DEN| 0.03440153240671735|\n",
      "|LAX|0.025932323684414206|\n",
      "|IAH| 0.02463411828994618|\n",
      "|SLC| 0.02436011954110491|\n",
      "|DTW| 0.02410120320306513|\n",
      "|PHX|0.023946028768846384|\n",
      "|SFO|0.019935590729512627|\n",
      "|MSP|0.019588031221911488|\n",
      "|LAS| 0.01910365727310598|\n",
      "|SEA|0.017718406483243555|\n",
      "|JFK|0.015464365582573107|\n",
      "|MCO|0.014825790376571609|\n",
      "|EWR|0.014633426817575611|\n",
      "|CLT| 0.01419770185600247|\n",
      "|BOS|0.012804259442974615|\n",
      "|BWI|0.012089968031306676|\n",
      "|LGA| 0.01199432812756782|\n",
      "+---+--------------------+\n",
      "only showing top 20 rows\n",
      "\n"
     ]
    }
   ],
   "source": [
    "# Count the nodes\n",
    "num_vertices = vertices.count()\n",
    "\n",
    "# Pagerank to 1/N\n",
    "ranks = vertices.withColumn(\"pagerank\", lit(1.0 / num_vertices))\n",
    "\n",
    "# Outdegree per node\n",
    "out_degrees = edges.groupBy(\"src\").agg(count(\"dst\").alias(\"out_deg\"))\n",
    "\n",
    "# Join edges with outdegree data\n",
    "edges_with_deg = edges.join(out_degrees, on=\"src\", how=\"left\")\n",
    "\n",
    "# Parameters\n",
    "reset_prob = 0.15\n",
    "iterations = 5\n",
    "\n",
    "# Compute pagerank\n",
    "for i in range(iterations):\n",
    "    # Join current ranks with edge list\n",
    "    contribs = edges_with_deg.join(ranks, edges_with_deg.src == ranks.id) \\\n",
    "        .withColumn(\"contrib\", col(\"pagerank\") / col(\"out_deg\")) \\\n",
    "        .select(\"dst\", \"contrib\")\n",
    "\n",
    "    # Sum contributions per destination node\n",
    "    agg_contribs = contribs.groupBy(\"dst\").agg(sql_sum(\"contrib\").alias(\"total_contrib\"))\n",
    "\n",
    "    # Calculate new ranks using the damping formula\n",
    "    ranks = agg_contribs.select(\n",
    "        col(\"dst\").alias(\"id\"),\n",
    "        (lit(reset_prob) / num_vertices + lit(1 - reset_prob) * col(\"total_contrib\")).alias(\"pagerank\")\n",
    "    ).union(\n",
    "        vertices.join(agg_contribs, vertices.id == agg_contribs.dst, \"left_anti\")\n",
    "        .select(\"id\").withColumn(\"pagerank\", lit(reset_prob / num_vertices))\n",
    "    )\n",
    "ranks.orderBy(\"pagerank\", ascending=False).show()"
   ]
  },
  {
   "cell_type": "markdown",
   "id": "89be6e4d-4819-44e1-a308-a698a6c34a4f",
   "metadata": {},
   "source": [
    "## Query 5"
   ]
  },
  {
   "cell_type": "code",
   "execution_count": 15,
   "id": "4e263340-ed51-471c-98c6-c74ee18b2637",
   "metadata": {},
   "outputs": [
    {
     "name": "stdout",
     "output_type": "stream",
     "text": [
      "+---+--------+---------+----------------+\n",
      "| id|inDegree|outDegree|degreeCentrality|\n",
      "+---+--------+---------+----------------+\n",
      "|ATL|  417457|   417449|          834906|\n",
      "|ORD|  313769|   313848|          627617|\n",
      "|DFW|  264398|   264396|          528794|\n",
      "|DEN|  235700|   235675|          471375|\n",
      "|LAX|  192916|   192879|          385795|\n",
      "|PHX|  183491|   183502|          366993|\n",
      "|IAH|  182088|   182097|          364185|\n",
      "|LAS|  153984|   153993|          307977|\n",
      "|DTW|  152075|   152081|          304156|\n",
      "|SFO|  136532|   136488|          273020|\n",
      "|SLC|  131674|   131694|          263368|\n",
      "|MCO|  120936|   120944|          241880|\n",
      "|MSP|  119759|   119732|          239491|\n",
      "|JFK|  119571|   119574|          239145|\n",
      "|EWR|  118602|   118602|          237204|\n",
      "|CLT|  116640|   116650|          233290|\n",
      "|BOS|  110463|   110460|          220923|\n",
      "|SEA|  100922|   100948|          201870|\n",
      "|BWI|  100928|   100923|          201851|\n",
      "|LGA|  100323|   100334|          200657|\n",
      "+---+--------+---------+----------------+\n",
      "only showing top 20 rows\n",
      "\n"
     ]
    }
   ],
   "source": [
    "# Degree centrality (number of direct connections)\n",
    "## Shows how connected an airport is\n",
    "## Can be used to detect big airports or bottlenecks\n",
    "\n",
    "degree_centrality = in_degree.join(out_degree, \"id\", \"outer\") \\\n",
    "    .withColumn(\"inDegree\", coalesce(col(\"inDegree\"), lit(0))) \\\n",
    "    .withColumn(\"outDegree\", coalesce(col(\"outDegree\"), lit(0))) \\\n",
    "    .withColumn(\"degreeCentrality\", col(\"inDegree\") + col(\"outDegree\"))\n",
    "\n",
    "\n",
    "degree_centrality.orderBy(col(\"degreeCentrality\").desc()).show()"
   ]
  }
 ],
 "metadata": {
  "kernelspec": {
   "display_name": "Python 3 (ipykernel)",
   "language": "python",
   "name": "python3"
  },
  "language_info": {
   "codemirror_mode": {
    "name": "ipython",
    "version": 3
   },
   "file_extension": ".py",
   "mimetype": "text/x-python",
   "name": "python",
   "nbconvert_exporter": "python",
   "pygments_lexer": "ipython3",
   "version": "3.11.10"
  }
 },
 "nbformat": 4,
 "nbformat_minor": 5
}
