{
 "cells": [
  {
   "cell_type": "code",
   "execution_count": 1,
   "id": "763d097c-a6eb-4d72-8cf3-811619db9d45",
   "metadata": {},
   "outputs": [
    {
     "name": "stdout",
     "output_type": "stream",
     "text": [
      "Requirement already satisfied: ipython-autotime in /opt/conda/lib/python3.11/site-packages (0.3.2)\n",
      "Requirement already satisfied: ipython in /opt/conda/lib/python3.11/site-packages (from ipython-autotime) (8.28.0)\n",
      "Requirement already satisfied: decorator in /opt/conda/lib/python3.11/site-packages (from ipython->ipython-autotime) (5.1.1)\n",
      "Requirement already satisfied: jedi>=0.16 in /opt/conda/lib/python3.11/site-packages (from ipython->ipython-autotime) (0.19.1)\n",
      "Requirement already satisfied: matplotlib-inline in /opt/conda/lib/python3.11/site-packages (from ipython->ipython-autotime) (0.1.7)\n",
      "Requirement already satisfied: prompt-toolkit<3.1.0,>=3.0.41 in /opt/conda/lib/python3.11/site-packages (from ipython->ipython-autotime) (3.0.48)\n",
      "Requirement already satisfied: pygments>=2.4.0 in /opt/conda/lib/python3.11/site-packages (from ipython->ipython-autotime) (2.18.0)\n",
      "Requirement already satisfied: stack-data in /opt/conda/lib/python3.11/site-packages (from ipython->ipython-autotime) (0.6.2)\n",
      "Requirement already satisfied: traitlets>=5.13.0 in /opt/conda/lib/python3.11/site-packages (from ipython->ipython-autotime) (5.14.3)\n",
      "Requirement already satisfied: typing-extensions>=4.6 in /opt/conda/lib/python3.11/site-packages (from ipython->ipython-autotime) (4.12.2)\n",
      "Requirement already satisfied: pexpect>4.3 in /opt/conda/lib/python3.11/site-packages (from ipython->ipython-autotime) (4.9.0)\n",
      "Requirement already satisfied: parso<0.9.0,>=0.8.3 in /opt/conda/lib/python3.11/site-packages (from jedi>=0.16->ipython->ipython-autotime) (0.8.4)\n",
      "Requirement already satisfied: ptyprocess>=0.5 in /opt/conda/lib/python3.11/site-packages (from pexpect>4.3->ipython->ipython-autotime) (0.7.0)\n",
      "Requirement already satisfied: wcwidth in /opt/conda/lib/python3.11/site-packages (from prompt-toolkit<3.1.0,>=3.0.41->ipython->ipython-autotime) (0.2.13)\n",
      "Requirement already satisfied: executing>=1.2.0 in /opt/conda/lib/python3.11/site-packages (from stack-data->ipython->ipython-autotime) (2.1.0)\n",
      "Requirement already satisfied: asttokens>=2.1.0 in /opt/conda/lib/python3.11/site-packages (from stack-data->ipython->ipython-autotime) (2.4.1)\n",
      "Requirement already satisfied: pure-eval in /opt/conda/lib/python3.11/site-packages (from stack-data->ipython->ipython-autotime) (0.2.3)\n",
      "Requirement already satisfied: six>=1.12.0 in /opt/conda/lib/python3.11/site-packages (from asttokens>=2.1.0->stack-data->ipython->ipython-autotime) (1.16.0)\n"
     ]
    }
   ],
   "source": [
    "!pip install ipython-autotime"
   ]
  },
  {
   "cell_type": "code",
   "execution_count": 2,
   "id": "bf218d77-0d17-4076-8087-bf105891792f",
   "metadata": {},
   "outputs": [
    {
     "name": "stdout",
     "output_type": "stream",
     "text": [
      "time: 73 μs (started: 2025-03-09 12:53:49 +00:00)\n"
     ]
    }
   ],
   "source": [
    "%load_ext autotime"
   ]
  },
  {
   "cell_type": "markdown",
   "id": "8f48efcf-cc38-4f99-8427-6d9234a01562",
   "metadata": {},
   "source": [
    "# Data enrichment"
   ]
  },
  {
   "cell_type": "markdown",
   "id": "830b41fa-1f4c-450b-ae9f-3addfe014d14",
   "metadata": {},
   "source": [
    "* Join prickup and dropoff coordinates with location name\n",
    "* Convert datetimes to timestamps"
   ]
  },
  {
   "cell_type": "code",
   "execution_count": 3,
   "id": "28c6727ab8b783bf",
   "metadata": {
    "ExecuteTime": {
     "end_time": "2025-02-27T05:17:37.498548Z",
     "start_time": "2025-02-27T05:17:37.300599Z"
    }
   },
   "outputs": [
    {
     "name": "stdout",
     "output_type": "stream",
     "text": [
      "time: 544 ms (started: 2025-03-09 12:53:49 +00:00)\n"
     ]
    }
   ],
   "source": [
    "from pyspark.sql import SparkSession\n",
    "from sedona.utils import SedonaKryoRegistrator\n",
    "from pyspark.sql.functions import col, udf, unix_timestamp, to_timestamp\n",
    "from pyspark.sql.functions import expr\n",
    "from pyspark.sql.types import StructType, StructField, StringType, DoubleType, IntegerType\n",
    "\n",
    "import geopandas as gpd\n",
    "from shapely import Point\n",
    "\n",
    "from pathlib import Path"
   ]
  },
  {
   "cell_type": "code",
   "execution_count": 4,
   "id": "0a3f0c5b-f3d0-49d7-89a8-45bd4a7fe5b6",
   "metadata": {},
   "outputs": [
    {
     "name": "stdout",
     "output_type": "stream",
     "text": [
      "time: 2.39 s (started: 2025-03-09 12:53:50 +00:00)\n"
     ]
    }
   ],
   "source": [
    "sedona_jar = '/home/jovyan/jars/sedona-spark-shaded-3.0_2.12-1.6.1.jar'\n",
    "geotools_jar = '/home/jovyan/jars/geotools-wrapper-1.7.0-28.5.jar'\n",
    "spark = (\n",
    "    SparkSession.builder\n",
    "        .config(\"spark.jars\", f\"{sedona_jar},{geotools_jar}\") \n",
    "        .config(\"spark.serializer\", \"org.apache.spark.serializer.KryoSerializer\")\n",
    "        .config(\"spark.kryo.registrator\", SedonaKryoRegistrator.getName)\n",
    "        .config(\"spark.sql.extensions\", \"org.apache.sedona.sql.SedonaSqlExtensions\")\n",
    "        .config(\"spark.driver.memory\", \"8g\")\n",
    "        .config(\"spark.executor.memory\", \"8g\")\n",
    "        .appName('NYC Taxi')    \n",
    "        .getOrCreate()\n",
    ")"
   ]
  },
  {
   "cell_type": "code",
   "execution_count": 5,
   "id": "e3ced6ca-59a7-4db1-8fb6-5b94f60c05bd",
   "metadata": {},
   "outputs": [
    {
     "name": "stdout",
     "output_type": "stream",
     "text": [
      "time: 367 μs (started: 2025-03-09 12:53:52 +00:00)\n"
     ]
    }
   ],
   "source": [
    "data_ready_path = './output/data_ready.parquet'\n",
    "data_ready_file = Path(data_ready_path)"
   ]
  },
  {
   "cell_type": "code",
   "execution_count": 6,
   "id": "5f8f404b-8a3f-4c66-8435-2330fc746910",
   "metadata": {},
   "outputs": [
    {
     "name": "stdout",
     "output_type": "stream",
     "text": [
      "time: 1min 56s (started: 2025-03-09 12:53:52 +00:00)\n"
     ]
    }
   ],
   "source": [
    "if not data_ready_file.exists():\n",
    "    # Introduce schema to maintain data integrity\n",
    "    schema = StructType([\n",
    "        StructField(\"medallion\", StringType(), True),\n",
    "        StructField(\"hack_license\", StringType(), True),\n",
    "        StructField(\"vendor_id\", StringType(), True),\n",
    "        StructField(\"rate_code\", IntegerType(), True),\n",
    "        StructField(\"store_and_fwd_flag\", StringType(), True),\n",
    "        StructField(\"pickup_datetime\", StringType(), True),\n",
    "        StructField(\"dropoff_datetime\", StringType(), True),\n",
    "        StructField(\"passenger_count\", IntegerType(), True),\n",
    "    \n",
    "        StructField(\"trip_time_in_secs\", StringType(), True),\n",
    "        StructField(\"trip_distance\", StringType(), True),\n",
    "        \n",
    "        StructField(\"pickup_longitude\", StringType(), True),\n",
    "        StructField(\"pickup_latitude\", StringType(), True),\n",
    "        StructField(\"dropoff_longitude\", StringType(), True),\n",
    "        StructField(\"dropoff_latitude\", StringType(), True)\n",
    "    ])\n",
    "    \n",
    "    data_path = './output/data.parquet'\n",
    "    data_file = Path(data_path)\n",
    "    if not data_file.exists():\n",
    "        csv_data = spark.read.csv('./data/trip_data/*.csv', header=True, schema=schema)\n",
    "        cols = [\"medallion\", \"pickup_datetime\", \"dropoff_datetime\", \"pickup_longitude\", \"pickup_latitude\", \"dropoff_longitude\", \"dropoff_latitude\"]\n",
    "        csv_data_cols = csv_data.selectExpr(cols)\n",
    "        csv_data_cleaned = csv_data_cols.dropna(subset=cols) # Remove rows with NULL cols (columns with interest)\n",
    "        csv_data_cleaned.write.mode('overwrite').parquet(data_path)\n",
    "    \n",
    "    df_trip = spark.read.load(data_path)\n"
   ]
  },
  {
   "cell_type": "code",
   "execution_count": 7,
   "id": "d7efd448-2715-4b38-8d7a-7bf6c3fb392f",
   "metadata": {},
   "outputs": [
    {
     "name": "stdout",
     "output_type": "stream",
     "text": [
      "time: 52.7 ms (started: 2025-03-09 12:55:48 +00:00)\n"
     ]
    }
   ],
   "source": [
    "# Convert pcikup and dropoff time to timestamps\n",
    "\n",
    "if not data_ready_file.exists():\n",
    "    DATE_FORMAT = 'yyyy-MM-d HH:mm:ss'\n",
    "    df_trip_w_ts = (df_trip\n",
    "             .withColumn('pickup_ts', unix_timestamp(to_timestamp(col(\"pickup_datetime\"), DATE_FORMAT)))\n",
    "             .withColumn('dropoff_ts', unix_timestamp(to_timestamp(col(\"dropoff_datetime\"), DATE_FORMAT)))\n",
    "            )"
   ]
  },
  {
   "cell_type": "code",
   "execution_count": 8,
   "id": "fcee672bd4982637",
   "metadata": {
    "ExecuteTime": {
     "end_time": "2025-02-27T05:17:46.660044Z",
     "start_time": "2025-02-27T05:17:39.088670Z"
    }
   },
   "outputs": [
    {
     "name": "stdout",
     "output_type": "stream",
     "text": [
      "time: 407 ms (started: 2025-03-09 12:55:48 +00:00)\n"
     ]
    }
   ],
   "source": [
    "# Load spatial data of NY\n",
    "\n",
    "if not data_ready_file.exists():\n",
    "    # First we use geopandas to read the geojson\n",
    "    gdf = gpd.read_file('./data/nyc-boroughs.geojson')\n",
    "    \n",
    "    # Convert geom to WKT\n",
    "    gdf['geom'] = gdf['geometry'].apply(lambda geom: geom.wkt if geom else None)\n",
    "    \n",
    "    # geopandas df to pandas df\n",
    "    pdf = gdf.astype(str)\n",
    "    \n",
    "    # pandas df to spark df\n",
    "    df_geom = spark.createDataFrame(pdf)\n",
    "    \n",
    "    # Convert WKT to geom (format) which is used for intersections\n",
    "    df_geom = df_geom.withColumn(\"geom\", expr(\"ST_GeomFromWKT(geom)\"))"
   ]
  },
  {
   "cell_type": "code",
   "execution_count": 9,
   "id": "b9cf98cb-c783-4515-90e8-13059c64821f",
   "metadata": {},
   "outputs": [
    {
     "name": "stdout",
     "output_type": "stream",
     "text": [
      "time: 22min (started: 2025-03-09 12:55:49 +00:00)\n"
     ]
    }
   ],
   "source": [
    "if not data_ready_file.exists():\n",
    "    # Helper function to convert long and lat to Point\n",
    "    udf_to_point = udf(lambda lon, lat: Point(lon, lat).wkt if lon is not None and lat is not None else '')\n",
    "    \n",
    "    # Trip df to WKT -> geom \n",
    "    df_trip_w_points = (df_trip_w_ts\n",
    "         .withColumn('pickup_point', udf_to_point(col('pickup_longitude'), col('pickup_latitude')))\n",
    "         .withColumn('dropoff_point', udf_to_point(col('dropoff_longitude'), col('dropoff_latitude')))\n",
    "         .withColumn('geom_pickup', expr('ST_GeomFromWKT(pickup_point)'))\n",
    "         .withColumn('geom_dropoff', expr('ST_GeomFromWKT(dropoff_point)'))\n",
    "        )\n",
    "    \n",
    "    df_geom = df_geom.repartition(40)\n",
    "    df_trip_w_points = df_trip_w_points.repartition(40)\n",
    "    \n",
    "    # Join geospatial data to trip pickup locations\n",
    "    df_trip_w_pickup = df_geom.alias('geo').join(\n",
    "        df_trip_w_points.alias('travel'),\n",
    "        expr('ST_Intersects(geo.geom, travel.geom_pickup)'),\n",
    "        'inner'\n",
    "    )\n",
    "    \n",
    "    # Distinguish pickup borough\n",
    "    df_trip_w_pickup = df_trip_w_pickup.withColumn('pickup_borough', col('borough'))\n",
    "    \n",
    "    # Remove excess columns from pickup\n",
    "    df_trip_w_pickup = df_trip_w_pickup.drop(\"geometry\", \"@id\", \"geom\", \"borough\", \"boroughCode\")\n",
    "    \n",
    "    # Join geospatial data to trip dropoff locations\n",
    "    df_trip_w_pickup_n_dropoff = df_geom.alias('geo').join(\n",
    "        df_trip_w_pickup.alias('travel'),\n",
    "        expr('ST_Intersects(geo.geom, travel.geom_dropoff)'),\n",
    "        'inner'\n",
    "    )\n",
    "    \n",
    "    # Distinguish dropoff borough\n",
    "    df_trip_w_pickup_n_dropoff = df_trip_w_pickup_n_dropoff.withColumn('dropoff_borough', col('borough'))\n",
    "    \n",
    "    df_final = df_trip_w_pickup_n_dropoff.select(\"medallion\", \"pickup_borough\", \"dropoff_borough\", \"pickup_ts\", \"dropoff_ts\")\n",
    "    df_final.write.mode('overwrite').parquet(data_ready_path)"
   ]
  },
  {
   "cell_type": "code",
   "execution_count": 10,
   "id": "85c8f9a3-1136-496b-a536-a1769b9f7122",
   "metadata": {},
   "outputs": [
    {
     "name": "stdout",
     "output_type": "stream",
     "text": [
      "time: 195 ms (started: 2025-03-09 13:17:50 +00:00)\n"
     ]
    }
   ],
   "source": [
    "df = spark.read.load(data_ready_path)"
   ]
  },
  {
   "cell_type": "code",
   "execution_count": 11,
   "id": "14eb3d2d-3eed-434c-883c-c0b9196b6e82",
   "metadata": {},
   "outputs": [
    {
     "data": {
      "text/plain": [
       "Row(medallion='CB0CF7051AAD729BD1F030EC42E3AAFB', pickup_borough='Brooklyn', dropoff_borough='Brooklyn', pickup_ts=1379879890, dropoff_ts=1379880453)"
      ]
     },
     "execution_count": 11,
     "metadata": {},
     "output_type": "execute_result"
    },
    {
     "name": "stdout",
     "output_type": "stream",
     "text": [
      "time: 638 ms (started: 2025-03-09 13:17:50 +00:00)\n"
     ]
    }
   ],
   "source": [
    "df.first()"
   ]
  },
  {
   "cell_type": "markdown",
   "id": "a29a52cc-cc1f-433d-885c-b0a10b04cc09",
   "metadata": {},
   "source": [
    "# Queries"
   ]
  },
  {
   "cell_type": "code",
   "execution_count": 12,
   "id": "12b13562-26d1-4a10-9e9f-c97ae79311d6",
   "metadata": {},
   "outputs": [
    {
     "name": "stdout",
     "output_type": "stream",
     "text": [
      "time: 5.36 ms (started: 2025-03-09 13:17:50 +00:00)\n"
     ]
    }
   ],
   "source": [
    "from pyspark.sql import SparkSession\n",
    "from pyspark.sql.functions import col, to_timestamp, unix_timestamp, lag, sum, avg\n",
    "from pyspark.sql.window import Window"
   ]
  },
  {
   "cell_type": "code",
   "execution_count": 13,
   "id": "1ed206db-7b39-4160-9639-8a488dde8478",
   "metadata": {},
   "outputs": [
    {
     "name": "stdout",
     "output_type": "stream",
     "text": [
      "time: 120 ms (started: 2025-03-09 13:17:50 +00:00)\n"
     ]
    }
   ],
   "source": [
    "# Preprocessing for query 1 and 2\n",
    "\n",
    "# Order by prickup_ts to get sequential trips\n",
    "# Group by medallion (per taxi)\n",
    "window = Window.partitionBy('medallion').orderBy('pickup_ts')\n",
    "\n",
    "df_ts = (df\n",
    "         .withColumn('dropoff_ts_prev', lag('dropoff_ts').over(window)) # lag() returns previous window row value*\n",
    "         .withColumn('idle_time', col('pickup_ts') - col('dropoff_ts_prev'))\n",
    "         .withColumn('trip_time', col('dropoff_ts') - col('pickup_ts'))\n",
    "        )\n",
    "\n",
    "# Remove neg idle_time and idle_time > 4h\n",
    "HOURS_4 = 4 * 60 * 60 # 14400 seconds\n",
    "df_ts_wo_exceptions = df_ts.filter((col('idle_time') > 0) & (col('idle_time') <= 14400))"
   ]
  },
  {
   "cell_type": "markdown",
   "id": "ac70d91a-3c2d-458e-827a-3e10357e9aa4",
   "metadata": {},
   "source": [
    "## Query 1"
   ]
  },
  {
   "cell_type": "code",
   "execution_count": 14,
   "id": "1e51b518-6309-4cda-b6e0-39bd1de1ec66",
   "metadata": {},
   "outputs": [
    {
     "name": "stdout",
     "output_type": "stream",
     "text": [
      "time: 56.3 ms (started: 2025-03-09 13:17:51 +00:00)\n"
     ]
    }
   ],
   "source": [
    "# Group by taxi (using medallion col)\n",
    "df_medal = df_ts_wo_exceptions.groupBy('medallion').agg(\n",
    "    avg(col('trip_time')).alias('total_trip_time'),\n",
    "    avg(col('idle_time')).alias('total_idle_time')\n",
    ")\n",
    "\n",
    "# Calculate utilization col\n",
    "df_util = df_medal.withColumn(\n",
    "    'utilization', col('total_trip_time') / (col('total_trip_time') + col('total_idle_time'))\n",
    ")"
   ]
  },
  {
   "cell_type": "code",
   "execution_count": 15,
   "id": "dc55c8f9-b043-4de5-a7d8-5a4f5b4ef3af",
   "metadata": {},
   "outputs": [
    {
     "name": "stdout",
     "output_type": "stream",
     "text": [
      "+--------------------+-----------------+------------------+-------------------+\n",
      "|           medallion|  total_trip_time|   total_idle_time|        utilization|\n",
      "+--------------------+-----------------+------------------+-------------------+\n",
      "|01F24976B8E3FF46A...|847.6214767764986|472.89440254069075|  0.641886621776018|\n",
      "|025B4E80E8A06FDB0...|812.2154628496091|    919.2627366042| 0.4690878944394568|\n",
      "|026B27179DE85CFDC...|  716.52846934071| 800.9352236053481| 0.4721882129183705|\n",
      "|03F2B14F5C52CC104...|760.6465364120781| 993.3090586145648|0.43367491090931737|\n",
      "|0545C6C1D0CDD7406...|717.4148034363088| 809.4505888376856| 0.4698611986796341|\n",
      "|0646CC81D58EFCE89...|711.4439345160628| 1014.493321460374|0.41220729899220376|\n",
      "|065BED6566F2BB3F0...|761.9670631290028| 847.5663311985361| 0.4734086697513671|\n",
      "|06EAD4C8D98202F1E...|689.3595683716393| 911.5951350362739|0.43059279997380084|\n",
      "|08E9F5633328D780C...|705.3899524375743| 695.5702140309156| 0.5035046458285148|\n",
      "|0A7F5AE428801886F...|792.6368642973927| 859.1701230530936|0.47986046212868344|\n",
      "|0BFE2249F32C82CFA...|838.4035175045628| 589.9654886344782| 0.5869656327609719|\n",
      "|0D5598E85DBEE5023...|644.0682206910033| 732.2235742559742| 0.4679735961920898|\n",
      "|0DF9417C1B2388D77...|811.7190855927698| 802.2142477405636| 0.5029446191041161|\n",
      "|0F15C4910E0B950DF...|740.5299615173172| 789.4997251236944|0.48399711978338006|\n",
      "|0F621E366CFE63044...|762.7000372162263| 774.9144026795683|0.49602814426477104|\n",
      "|1087DFA00B5B8DBBD...|784.3146417445483| 974.2367601246106| 0.4460004074438215|\n",
      "|1109955CCAABCBCE1...| 790.930140439323| 705.0152142599928| 0.5287159306686704|\n",
      "|11210FCEC0DCC4FB8...|783.6054078312577|1129.7356670032536| 0.4095482076550483|\n",
      "|12A43F6E5B1DAE040...|937.9625758162343| 882.5087108013937| 0.5152306343479528|\n",
      "|12F3E8991D106FEB7...|732.2907167235495| 816.2000682593857|0.47290608625198866|\n",
      "+--------------------+-----------------+------------------+-------------------+\n",
      "only showing top 20 rows\n",
      "\n",
      "time: 25.9 s (started: 2025-03-09 13:17:51 +00:00)\n"
     ]
    }
   ],
   "source": [
    "df_util.show()"
   ]
  },
  {
   "cell_type": "markdown",
   "id": "b369ed02-bcd5-4f24-94f0-66ed284f4e7b",
   "metadata": {},
   "source": [
    "## Query 2"
   ]
  },
  {
   "cell_type": "code",
   "execution_count": 16,
   "id": "de67bb2c-ae9c-4ca2-aaed-817ae762facd",
   "metadata": {},
   "outputs": [
    {
     "name": "stdout",
     "output_type": "stream",
     "text": [
      "time: 13.9 ms (started: 2025-03-09 13:18:17 +00:00)\n"
     ]
    }
   ],
   "source": [
    "df_time_to_next = df_ts_wo_exceptions.groupBy('dropoff_borough').agg(\n",
    "    avg(col('idle_time')).alias('avg_time_for_next_ride')\n",
    ")"
   ]
  },
  {
   "cell_type": "code",
   "execution_count": 17,
   "id": "344121b8-795f-4b2c-8bdc-23748b08358d",
   "metadata": {},
   "outputs": [
    {
     "name": "stdout",
     "output_type": "stream",
     "text": [
      "+---------------+----------------------+\n",
      "|dropoff_borough|avg_time_for_next_ride|\n",
      "+---------------+----------------------+\n",
      "|         Queens|     1604.036819771684|\n",
      "|       Brooklyn|     1187.756228123166|\n",
      "|  Staten Island|    1666.4436438497169|\n",
      "|      Manhattan|     823.5725760747847|\n",
      "|          Bronx|    1381.9571459888841|\n",
      "+---------------+----------------------+\n",
      "\n",
      "time: 41.7 s (started: 2025-03-09 13:18:17 +00:00)\n"
     ]
    }
   ],
   "source": [
    "df_time_to_next.show()"
   ]
  },
  {
   "cell_type": "markdown",
   "id": "7dbbe363-ab41-4358-9f46-3b43b236f115",
   "metadata": {},
   "source": [
    "## Query 3"
   ]
  },
  {
   "cell_type": "code",
   "execution_count": 18,
   "id": "9c8cb788-91ad-4a32-9c03-1cfde27468c8",
   "metadata": {},
   "outputs": [
    {
     "name": "stdout",
     "output_type": "stream",
     "text": [
      "time: 1.22 s (started: 2025-03-09 13:18:58 +00:00)\n"
     ]
    }
   ],
   "source": [
    "c_trips_end_start_loc_same = df.where(\n",
    "    (col(\"pickup_borough\").isNotNull()) & \n",
    "    (col(\"dropoff_borough\").isNotNull()) & \n",
    "    (col(\"pickup_borough\") == col(\"dropoff_borough\"))\n",
    ").count()"
   ]
  },
  {
   "cell_type": "code",
   "execution_count": 19,
   "id": "663a9934-3875-426a-b750-da834a565777",
   "metadata": {},
   "outputs": [
    {
     "data": {
      "text/plain": [
       "148705597"
      ]
     },
     "execution_count": 19,
     "metadata": {},
     "output_type": "execute_result"
    },
    {
     "name": "stdout",
     "output_type": "stream",
     "text": [
      "time: 2.78 ms (started: 2025-03-09 13:19:00 +00:00)\n"
     ]
    }
   ],
   "source": [
    "c_trips_end_start_loc_same"
   ]
  },
  {
   "cell_type": "markdown",
   "id": "c7b21202-f741-4954-8b6e-79a7e94a817d",
   "metadata": {},
   "source": [
    "## Query 4"
   ]
  },
  {
   "cell_type": "code",
   "execution_count": 20,
   "id": "d29f48d6-e726-4561-b6e4-518145ea4ed7",
   "metadata": {},
   "outputs": [
    {
     "name": "stdout",
     "output_type": "stream",
     "text": [
      "time: 1.13 s (started: 2025-03-09 13:19:00 +00:00)\n"
     ]
    }
   ],
   "source": [
    "c_trips_end_start_loc_not_same = df.where(\n",
    "    (col(\"pickup_borough\").isNotNull()) & \n",
    "    (col(\"dropoff_borough\").isNotNull()) & \n",
    "    (col(\"pickup_borough\") != col(\"dropoff_borough\"))\n",
    ").count()"
   ]
  },
  {
   "cell_type": "code",
   "execution_count": 21,
   "id": "f3e5dc5a-fa77-4183-bcf5-868d1e68556b",
   "metadata": {},
   "outputs": [
    {
     "data": {
      "text/plain": [
       "20149407"
      ]
     },
     "execution_count": 21,
     "metadata": {},
     "output_type": "execute_result"
    },
    {
     "name": "stdout",
     "output_type": "stream",
     "text": [
      "time: 2.96 ms (started: 2025-03-09 13:19:01 +00:00)\n"
     ]
    }
   ],
   "source": [
    "c_trips_end_start_loc_not_same"
   ]
  },
  {
   "cell_type": "markdown",
   "id": "af4cf529-bbac-405e-ac06-928a29280f85",
   "metadata": {},
   "source": [
    "## Miscellaneous"
   ]
  },
  {
   "cell_type": "markdown",
   "id": "a0a1c3ba-709f-484a-9449-8d715acd1c39",
   "metadata": {},
   "source": [
    "Tests should render True!"
   ]
  },
  {
   "cell_type": "code",
   "execution_count": 22,
   "id": "5e8f4092-fba8-4a1b-a9f2-b6e83f7d26dc",
   "metadata": {},
   "outputs": [
    {
     "name": "stdout",
     "output_type": "stream",
     "text": [
      "Q3+Q4 equals total sum? True\n",
      "time: 207 ms (started: 2025-03-09 13:19:01 +00:00)\n"
     ]
    }
   ],
   "source": [
    "is_count_eq = df.count() == c_trips_end_start_loc_same + c_trips_end_start_loc_not_same\n",
    "print(f\"Q3+Q4 equals total sum? {is_count_eq}\")"
   ]
  }
 ],
 "metadata": {
  "kernelspec": {
   "display_name": "Python 3 (ipykernel)",
   "language": "python",
   "name": "python3"
  },
  "language_info": {
   "codemirror_mode": {
    "name": "ipython",
    "version": 3
   },
   "file_extension": ".py",
   "mimetype": "text/x-python",
   "name": "python",
   "nbconvert_exporter": "python",
   "pygments_lexer": "ipython3",
   "version": "3.11.10"
  }
 },
 "nbformat": 4,
 "nbformat_minor": 5
}
