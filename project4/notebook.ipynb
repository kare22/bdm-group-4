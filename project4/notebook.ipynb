{
 "cells": [
  {
   "cell_type": "markdown",
   "id": "4b414625",
   "metadata": {},
   "source": [
    "## Task 1"
   ]
  },
  {
   "cell_type": "code",
   "execution_count": 1,
   "id": "6c0018a7",
   "metadata": {},
   "outputs": [],
   "source": [
    "import pyspark\n",
    "from pyspark.sql import functions as F\n",
    "\n",
    "spark = pyspark.sql.SparkSession.builder \\\n",
    "    .appName(\"Project 4\") \\\n",
    "    .config(\"spark.driver.memory\", \"8g\") \\\n",
    "    .config(\"spark.executor.memory\", \"8g\") \\\n",
    "    .config(\"spark.memory.offHeap.enabled\", \"true\") \\\n",
    "    .config(\"spark.memory.offHeap.size\", \"2g\") \\\n",
    "    .config(\"spark.sql.shuffle.partitions\", \"200\") \\\n",
    "    .getOrCreate()"
   ]
  },
  {
   "cell_type": "code",
   "execution_count": 2,
   "id": "f96245fe",
   "metadata": {},
   "outputs": [],
   "source": [
    "df = spark.read.csv('./data/2009.csv', header=True, inferSchema=True)"
   ]
  },
  {
   "cell_type": "code",
   "execution_count": 3,
   "id": "b4739b67",
   "metadata": {},
   "outputs": [],
   "source": [
    "from pathlib import Path\n",
    "\n",
    "data_path = \"./output/2009.parquet\"\n",
    "data_file = Path(data_path)\n",
    "if not data_file.exists():\n",
    "\n",
    "    df = spark.read.csv('./data/2009.csv', header=True)\n",
    "    print(f\"Total flights: {df.count()}\")\n",
    "\n",
    "    df_2009 = df.filter(F.year(F.col(\"FL_DATE\")) == 2009)\n",
    "    print(f\"2009 flights: {df_2009.count()}\")\n",
    "\n",
    "    df_2009.write.partitionBy(\"FL_DATE\").mode(\"overwrite\").parquet(data_path)\n",
    "\n",
    "df_flights = spark.read.load(data_path)\n",
    "\n",
    "#test with smaller sample, since full dataset takes very long time with models\n",
    "#df_flights = df_flights.sample(withReplacement=False, fraction=0.01, seed=42)\n"
   ]
  },
  {
   "cell_type": "markdown",
   "id": "670fb039",
   "metadata": {},
   "source": [
    "## Task 2"
   ]
  },
  {
   "cell_type": "code",
   "execution_count": 4,
   "id": "4aa30d47",
   "metadata": {},
   "outputs": [
    {
     "name": "stdout",
     "output_type": "stream",
     "text": [
      "+-------------+---------+------+-----------+----------------------+-------------+--------------+-------+---------+--------+------+--------------------+-----------+------------+---------+----------------+--------+--------------------+-----------------+-------+--------+------------+------------+--------+-------------+-----------------+----------+\n",
      "|UniqueCarrier|FlightNum|Origin|Destination|ScheduledDepartureTime|DepartureTime|DepartureDelay|TaxiOut|WheelsOff|WheelsOn|TaxiIn|ScheduledArrivalTime|ArrivalTime|ArrivalDelay|Cancelled|CancellationCode|Diverted|ScheduledElapsedTime|ActualElapsedTime|AirTime|Distance|CarrierDelay|WeatherDelay|NASDelay|SecurityDelay|LateAircraftDelay|FlightDate|\n",
      "+-------------+---------+------+-----------+----------------------+-------------+--------------+-------+---------+--------+------+--------------------+-----------+------------+---------+----------------+--------+--------------------+-----------------+-------+--------+------------+------------+--------+-------------+-----------------+----------+\n",
      "|           WN|      328|   ABQ|        BWI|                  1600|       1559.0|          -1.0|    7.0|   1606.0|  2119.0|   4.0|                2150|     2123.0|       -27.0|      0.0|            NULL|     0.0|               230.0|            204.0|  193.0|  1670.0|        NULL|        NULL|    NULL|         NULL|             NULL|2009-07-31|\n",
      "|           WN|     2898|   ABQ|        BWI|                  1020|       1017.0|          -3.0|    5.0|   1022.0|  1608.0|   3.0|                1610|     1611.0|         1.0|      0.0|            NULL|     0.0|               230.0|            234.0|  226.0|  1670.0|        NULL|        NULL|    NULL|         NULL|             NULL|2009-07-31|\n",
      "|           WN|       29|   ABQ|        DAL|                  1745|       1753.0|           8.0|    6.0|   1759.0|  2018.0|   4.0|                2030|     2022.0|        -8.0|      0.0|            NULL|     0.0|               105.0|             89.0|   79.0|   580.0|        NULL|        NULL|    NULL|         NULL|             NULL|2009-07-31|\n",
      "|           WN|       87|   ABQ|        DAL|                   700|        658.0|          -2.0|    6.0|    704.0|   922.0|   2.0|                 940|      924.0|       -16.0|      0.0|            NULL|     0.0|               100.0|             86.0|   78.0|   580.0|        NULL|        NULL|    NULL|         NULL|             NULL|2009-07-31|\n",
      "|           WN|      391|   ABQ|        DAL|                  1230|       1233.0|           3.0|   13.0|   1246.0|  1504.0|   3.0|                1510|     1507.0|        -3.0|      0.0|            NULL|     0.0|               100.0|             94.0|   78.0|   580.0|        NULL|        NULL|    NULL|         NULL|             NULL|2009-07-31|\n",
      "|           WN|      595|   ABQ|        DAL|                   910|        904.0|          -6.0|    9.0|    913.0|  1130.0|   3.0|                1155|     1133.0|       -22.0|      0.0|            NULL|     0.0|               105.0|             89.0|   77.0|   580.0|        NULL|        NULL|    NULL|         NULL|             NULL|2009-07-31|\n",
      "|           WN|      787|   ABQ|        DAL|                  1915|       1958.0|          43.0|    7.0|   2005.0|  2221.0|   3.0|                2155|     2224.0|        29.0|      0.0|            NULL|     0.0|               100.0|             86.0|   76.0|   580.0|        29.0|         0.0|     0.0|          0.0|              0.0|2009-07-31|\n",
      "|           WN|      850|   ABQ|        DAL|                  1345|       1350.0|           5.0|    6.0|   1356.0|  1614.0|   4.0|                1630|     1618.0|       -12.0|      0.0|            NULL|     0.0|               105.0|             88.0|   78.0|   580.0|        NULL|        NULL|    NULL|         NULL|             NULL|2009-07-31|\n",
      "|           WN|     1749|   ABQ|        DAL|                  1815|       1806.0|          -9.0|    6.0|   1812.0|  2028.0|  19.0|                2100|     2047.0|       -13.0|      0.0|            NULL|     0.0|               105.0|            101.0|   76.0|   580.0|        NULL|        NULL|    NULL|         NULL|             NULL|2009-07-31|\n",
      "|           WN|     2232|   ABQ|        DAL|                  1500|       1452.0|          -8.0|    9.0|   1501.0|  1718.0|  12.0|                1745|     1730.0|       -15.0|      0.0|            NULL|     0.0|               105.0|             98.0|   77.0|   580.0|        NULL|        NULL|    NULL|         NULL|             NULL|2009-07-31|\n",
      "|           WN|      522|   ABQ|        DEN|                   710|        710.0|           0.0|   12.0|    722.0|   813.0|   6.0|                 825|      819.0|        -6.0|      0.0|            NULL|     0.0|                75.0|             69.0|   51.0|   349.0|        NULL|        NULL|    NULL|         NULL|             NULL|2009-07-31|\n",
      "|           WN|      822|   ABQ|        DEN|                  1200|       1205.0|           5.0|    7.0|   1212.0|  1303.0|  18.0|                1315|     1321.0|         6.0|      0.0|            NULL|     0.0|                75.0|             76.0|   51.0|   349.0|        NULL|        NULL|    NULL|         NULL|             NULL|2009-07-31|\n",
      "|           WN|     2373|   ABQ|        DEN|                  1700|       1720.0|          20.0|    8.0|   1728.0|  1832.0|   9.0|                1815|     1841.0|        26.0|      0.0|            NULL|     0.0|                75.0|             81.0|   64.0|   349.0|         0.0|        12.0|     6.0|          0.0|              8.0|2009-07-31|\n",
      "|           WN|      334|   ABQ|        ELP|                  1955|       2023.0|          28.0|    9.0|   2032.0|  2110.0|   5.0|                2050|     2115.0|        25.0|      0.0|            NULL|     0.0|                55.0|             52.0|   38.0|   223.0|         0.0|         0.0|     0.0|          0.0|             25.0|2009-07-31|\n",
      "|           WN|     1488|   ABQ|        ELP|                   935|        953.0|          18.0|    6.0|    959.0|  1038.0|   2.0|                1030|     1040.0|        10.0|      0.0|            NULL|     0.0|                55.0|             47.0|   39.0|   223.0|        NULL|        NULL|    NULL|         NULL|             NULL|2009-07-31|\n",
      "|           WN|      870|   ABQ|        HOU|                   625|        626.0|           1.0|    6.0|    632.0|   912.0|   6.0|                 925|      918.0|        -7.0|      0.0|            NULL|     0.0|               120.0|            112.0|  100.0|   759.0|        NULL|        NULL|    NULL|         NULL|             NULL|2009-07-31|\n",
      "|           WN|     1306|   ABQ|        HOU|                  1235|       1232.0|          -3.0|   12.0|   1244.0|  1526.0|   6.0|                1545|     1532.0|       -13.0|      0.0|            NULL|     0.0|               130.0|            120.0|  102.0|   759.0|        NULL|        NULL|    NULL|         NULL|             NULL|2009-07-31|\n",
      "|           WN|     2104|   ABQ|        HOU|                  2045|       2044.0|          -1.0|    7.0|   2051.0|  2332.0|   4.0|                2345|     2336.0|        -9.0|      0.0|            NULL|     0.0|               120.0|            112.0|  101.0|   759.0|        NULL|        NULL|    NULL|         NULL|             NULL|2009-07-31|\n",
      "|           WN|      240|   ABQ|        LAS|                  1715|       1738.0|          23.0|    6.0|   1744.0|  1804.0|   4.0|                1750|     1808.0|        18.0|      0.0|            NULL|     0.0|                95.0|             90.0|   80.0|   487.0|         4.0|         0.0|     0.0|          0.0|             14.0|2009-07-31|\n",
      "|           WN|      241|   ABQ|        LAS|                   820|        825.0|           5.0|    5.0|    830.0|   847.0|   3.0|                 850|      850.0|         0.0|      0.0|            NULL|     0.0|                90.0|             85.0|   77.0|   487.0|        NULL|        NULL|    NULL|         NULL|             NULL|2009-07-31|\n",
      "+-------------+---------+------+-----------+----------------------+-------------+--------------+-------+---------+--------+------+--------------------+-----------+------------+---------+----------------+--------+--------------------+-----------------+-------+--------+------------+------------+--------+-------------+-----------------+----------+\n",
      "only showing top 20 rows\n",
      "\n"
     ]
    }
   ],
   "source": [
    "\n",
    "df_renamed = df_flights \\\n",
    "    .withColumnRenamed(\"FL_DATE\", \"FlightDate\") \\\n",
    "    .withColumnRenamed(\"OP_CARRIER\", \"UniqueCarrier\") \\\n",
    "    .withColumnRenamed(\"OP_CARRIER_FL_NUM\", \"FlightNum\") \\\n",
    "    .withColumnRenamed(\"ORIGIN\", \"Origin\") \\\n",
    "    .withColumnRenamed(\"DEST\", \"Destination\") \\\n",
    "    .withColumnRenamed(\"CRS_DEP_TIME\", \"ScheduledDepartureTime\") \\\n",
    "    .withColumnRenamed(\"DEP_TIME\", \"DepartureTime\") \\\n",
    "    .withColumnRenamed(\"DEP_DELAY\", \"DepartureDelay\") \\\n",
    "    .withColumnRenamed(\"TAXI_OUT\", \"TaxiOut\") \\\n",
    "    .withColumnRenamed(\"WHEELS_OFF\", \"WheelsOff\") \\\n",
    "    .withColumnRenamed(\"WHEELS_ON\", \"WheelsOn\") \\\n",
    "    .withColumnRenamed(\"TAXI_IN\", \"TaxiIn\") \\\n",
    "    .withColumnRenamed(\"CRS_ARR_TIME\", \"ScheduledArrivalTime\") \\\n",
    "    .withColumnRenamed(\"ARR_TIME\", \"ArrivalTime\") \\\n",
    "    .withColumnRenamed(\"ARR_DELAY\", \"ArrivalDelay\") \\\n",
    "    .withColumnRenamed(\"CANCELLED\", \"Cancelled\") \\\n",
    "    .withColumnRenamed(\"CANCELLATION_CODE\", \"CancellationCode\") \\\n",
    "    .withColumnRenamed(\"DIVERTED\", \"Diverted\") \\\n",
    "    .withColumnRenamed(\"CRS_ELAPSED_TIME\", \"ScheduledElapsedTime\") \\\n",
    "    .withColumnRenamed(\"ACTUAL_ELAPSED_TIME\", \"ActualElapsedTime\") \\\n",
    "    .withColumnRenamed(\"AIR_TIME\", \"AirTime\") \\\n",
    "    .withColumnRenamed(\"DISTANCE\", \"Distance\") \\\n",
    "    .withColumnRenamed(\"CARRIER_DELAY\", \"CarrierDelay\") \\\n",
    "    .withColumnRenamed(\"WEATHER_DELAY\", \"WeatherDelay\") \\\n",
    "    .withColumnRenamed(\"NAS_DELAY\", \"NASDelay\") \\\n",
    "    .withColumnRenamed(\"SECURITY_DELAY\", \"SecurityDelay\") \\\n",
    "    .withColumnRenamed(\"LATE_AIRCRAFT_DELAY\", \"LateAircraftDelay\") \\\n",
    "    .drop(\"Unnamed: 27\")\n",
    "\n",
    "df_renamed.show()"
   ]
  },
  {
   "cell_type": "code",
   "execution_count": 5,
   "id": "d7b662e8",
   "metadata": {},
   "outputs": [],
   "source": [
    "df_with_features = df_renamed \\\n",
    "    .withColumn(\"DayOfWeek\", F.dayofweek(F.col(\"FlightDate\"))) \\\n",
    "    .withColumn(\"Month\", F.month(F.col(\"FlightDate\")))"
   ]
  },
  {
   "cell_type": "code",
   "execution_count": 6,
   "id": "d4793880",
   "metadata": {},
   "outputs": [],
   "source": [
    "# null_columns = [c for c in df_with_features.columns if df_with_features.filter(F.col(c).isNull()).count() > 0]\n",
    "# null_columns"
   ]
  },
  {
   "cell_type": "code",
   "execution_count": 7,
   "id": "b0a1b0b5",
   "metadata": {},
   "outputs": [],
   "source": [
    "delays = [\n",
    "    'DepartureDelay',\n",
    "    'ArrivalDelay',\n",
    "    'CarrierDelay',\n",
    "    'WeatherDelay',\n",
    "    'NASDelay',\n",
    "    'SecurityDelay',\n",
    "    'LateAircraftDelay']\n",
    "times = [\n",
    "    'DepartureTime',\n",
    "    'TaxiOut',\n",
    "    'WheelsOff',\n",
    "    'WheelsOn',\n",
    "    'TaxiIn',\n",
    "    'ArrivalTime',\n",
    "    'ActualElapsedTime',\n",
    "    'AirTime']\n",
    "cancellation = [\n",
    "    'CancellationCode'\n",
    "]\n",
    "\n",
    "df_cleaned = df_with_features \\\n",
    "    .fillna(\"0\", subset=delays) \\\n",
    "    .fillna(\"\", subset=cancellation)\n",
    "\n",
    "for col_name in times:\n",
    "    df_cleaned = df_cleaned.withColumn(col_name, F.when((F.col(\"Cancelled\") == 1) | (F.col(\"Diverted\") == 1.0), 0).otherwise(F.col(col_name)))\n",
    "\n",
    "df_cleaned = df_cleaned.filter(F.col(\"Diverted\") == 0.0)"
   ]
  },
  {
   "cell_type": "code",
   "execution_count": 8,
   "id": "509adbc5",
   "metadata": {},
   "outputs": [
    {
     "name": "stdout",
     "output_type": "stream",
     "text": [
      "Found 1 rows with unjustified NULL values. Removing them.\n"
     ]
    }
   ],
   "source": [
    "from functools import reduce\n",
    "\n",
    "all_rows_count = df_cleaned.count()\n",
    "\n",
    "not_null_condition = reduce(lambda x, y: x & y, [F.col(c).isNotNull() for c in df_cleaned.columns])\n",
    "df_cleaned = df_cleaned.filter(not_null_condition)\n",
    "cleaned_rows_count = df_cleaned.count()\n",
    "\n",
    "print(f\"Found {all_rows_count - cleaned_rows_count} rows with unjustified NULL values. Removing them.\")"
   ]
  },
  {
   "cell_type": "code",
   "execution_count": 9,
   "id": "f20484c2",
   "metadata": {},
   "outputs": [],
   "source": [
    "# null_condition = [(F.col(c).isNull()) for c in df_cleaned.columns]\n",
    "# df_with_nulls = df_cleaned.filter(reduce(lambda x, y: x | y, null_condition))\n",
    "# df_with_nulls.show()"
   ]
  },
  {
   "cell_type": "markdown",
   "id": "0fd85756",
   "metadata": {},
   "source": [
    "## Task 3"
   ]
  },
  {
   "cell_type": "code",
   "execution_count": 10,
   "id": "9656ac86",
   "metadata": {},
   "outputs": [
    {
     "name": "stdout",
     "output_type": "stream",
     "text": [
      "Top 10 carriers by flight count:\n",
      "+-------------+-------+\n",
      "|UniqueCarrier|  count|\n",
      "+-------------+-------+\n",
      "|           WN|1127045|\n",
      "|           AA| 548194|\n",
      "|           OO| 544843|\n",
      "|           MQ| 434577|\n",
      "|           DL| 424982|\n",
      "|           US| 411273|\n",
      "|           UA| 375501|\n",
      "|           XE| 308340|\n",
      "|           EV| 297874|\n",
      "|           NW| 291856|\n",
      "+-------------+-------+\n",
      "\n"
     ]
    },
    {
     "data": {
      "image/png": "[encoded data removed]",
      "text/plain": [
       "<Figure size 640x480 with 1 Axes>"
      ]
     },
     "metadata": {},
     "output_type": "display_data"
    }
   ],
   "source": [
    "top_carriers = df_cleaned.groupBy(\"UniqueCarrier\").count().orderBy(F.desc(\"count\")).limit(10)\n",
    "print(\"Top 10 carriers by flight count:\")\n",
    "top_carriers.show()\n",
    "\n",
    "import matplotlib.pyplot as plt\n",
    "\n",
    "pdf = top_carriers.toPandas()\n",
    "plt.figure()\n",
    "plt.bar(pdf['UniqueCarrier'], pdf['count'])\n",
    "plt.title('Top 10 Carriers by Flight Count')\n",
    "plt.xlabel('Carrier')\n",
    "plt.ylabel('Flight Count')\n",
    "plt.show()"
   ]
  },
  {
   "cell_type": "code",
   "execution_count": 11,
   "id": "8c416544",
   "metadata": {},
   "outputs": [
    {
     "name": "stdout",
     "output_type": "stream",
     "text": [
      "Cancellation reasons\n",
      "+----------------+-----+\n",
      "|CancellationCode|count|\n",
      "+----------------+-----+\n",
      "|               B|36651|\n",
      "|               A|35568|\n",
      "|               C|14799|\n",
      "|               D|   20|\n",
      "+----------------+-----+\n",
      "\n"
     ]
    },
    {
     "data": {
      "image/png": "[encoded data removed]",
      "text/plain": [
       "<Figure size 640x480 with 1 Axes>"
      ]
     },
     "metadata": {},
     "output_type": "display_data"
    }
   ],
   "source": [
    "cancellation_counts = df_cleaned.filter(F.col(\"Cancelled\") == 1.0) \\\n",
    "                        .groupBy(\"CancellationCode\").count().orderBy(F.desc(\"count\")).limit(10)\n",
    "\n",
    "print(\"Cancellation reasons\")\n",
    "cancellation_counts.show()\n",
    "\n",
    "pdf = cancellation_counts.toPandas()\n",
    "plt.figure()\n",
    "plt.bar(pdf['CancellationCode'], pdf['count'])\n",
    "plt.title('Cancellation reasons by code')\n",
    "plt.xlabel('Cancellation code')\n",
    "plt.ylabel('Flight Count')\n",
    "plt.show()"
   ]
  },
  {
   "cell_type": "code",
   "execution_count": 12,
   "id": "f1a38669",
   "metadata": {},
   "outputs": [
    {
     "name": "stdout",
     "output_type": "stream",
     "text": [
      "Class distribution\n",
      "+----------------+-----+--------------------+\n",
      "|CancellationCode|count|        distribution|\n",
      "+----------------+-----+--------------------+\n",
      "|               B|36651|   42.10919368551667|\n",
      "|               A|35568|    40.8649095797238|\n",
      "|               C|14799|  17.002918265585144|\n",
      "|               D|   20|0.022978469174383603|\n",
      "+----------------+-----+--------------------+\n",
      "\n",
      "Imbalance Ratio: 1832.55\n"
     ]
    }
   ],
   "source": [
    "total_count = cancellation_counts.agg(F.sum(\"count\")).collect()[0][0]\n",
    "\n",
    "df = cancellation_counts.withColumn(\"distribution\", (F.col(\"count\") / total_count) * 100)\n",
    "\n",
    "max_count = df.agg(F.max(\"count\")).collect()[0][0]\n",
    "min_count = df.agg(F.min(\"count\")).collect()[0][0]\n",
    "imbalance_ratio = max_count / min_count\n",
    "\n",
    "print(\"Class distribution\")\n",
    "df.show()\n",
    "print(f\"Imbalance Ratio: {imbalance_ratio:.2f}\")\n"
   ]
  },
  {
   "cell_type": "markdown",
   "id": "d2494b13-f84a-4f7b-b362-ff33fb747699",
   "metadata": {},
   "source": [
    "## Task 4"
   ]
  },
  {
   "cell_type": "code",
   "execution_count": 13,
   "id": "6cce3263-d082-40c9-a00e-8644cedd2759",
   "metadata": {},
   "outputs": [],
   "source": [
    "from pyspark.ml.feature import StringIndexer, OneHotEncoder, VectorAssembler\n",
    "from pyspark.ml import Pipeline\n",
    "from pyspark.sql.types import DoubleType\n",
    "import pyspark.sql.functions as F"
   ]
  },
  {
   "cell_type": "code",
   "execution_count": 14,
   "id": "98b71fc8-32b0-4b8b-9176-1b408b2ae92d",
   "metadata": {},
   "outputs": [],
   "source": [
    "def preprocess_dataframe(df):\n",
    "    numeric_columns = [\n",
    "        \"Distance\", \"TaxiOut\", \"TaxiIn\", \"ScheduledElapsedTime\", \n",
    "        \"ActualElapsedTime\", \"AirTime\", \"DepartureDelay\", \"ArrivalDelay\"\n",
    "    ]\n",
    "    \n",
    "    for col_name in numeric_columns:\n",
    "        df = df.withColumn(col_name, F.col(col_name).cast(DoubleType()))\n",
    "    \n",
    "    return df"
   ]
  },
  {
   "cell_type": "code",
   "execution_count": 15,
   "id": "0bc79fe1-12bf-4233-9aad-ea71c0d8fc8f",
   "metadata": {},
   "outputs": [],
   "source": [
    "categorical_features = [\"UniqueCarrier\", \"Origin\", \"Destination\", \"FlightNum\"]\n",
    "\n",
    "temporal_features = [\"DayOfWeek\", \"Month\"]\n",
    "\n",
    "numerical_features = [\n",
    "    \"Distance\",\n",
    "    \"TaxiOut\",\n",
    "    \"TaxiIn\",\n",
    "    \"ScheduledElapsedTime\",\n",
    "    \"AirTime\",\n",
    "    \"DepartureDelay\"\n",
    "]\n",
    "\n",
    "indexers = [\n",
    "    StringIndexer(\n",
    "        inputCol=col, \n",
    "        outputCol=f\"{col}Index\",\n",
    "        handleInvalid=\"keep\"\n",
    "    ) for col in categorical_features\n",
    "]\n",
    "\n",
    "encoder_inputs = [f\"{col}Index\" for col in categorical_features]\n",
    "encoder_outputs = [f\"{col}Vec\" for col in categorical_features]\n",
    "encoder = OneHotEncoder(\n",
    "    inputCols=encoder_inputs,\n",
    "    outputCols=encoder_outputs,\n",
    "    dropLast=True\n",
    ")"
   ]
  },
  {
   "cell_type": "code",
   "execution_count": 16,
   "id": "3e5da327-3c6f-48a1-8bea-567367a4f249",
   "metadata": {},
   "outputs": [],
   "source": [
    "assembler_inputs = encoder_outputs + temporal_features + numerical_features\n",
    "assembler = VectorAssembler(\n",
    "    inputCols=assembler_inputs,\n",
    "    outputCol=\"features\",\n",
    "    handleInvalid=\"keep\"\n",
    ")\n"
   ]
  },
  {
   "cell_type": "code",
   "execution_count": 49,
   "id": "9cedbeb6-7ec8-4565-91c4-1036a7f66524",
   "metadata": {},
   "outputs": [],
   "source": [
    "pipeline = Pipeline(stages=indexers + [encoder, assembler])\n",
    "\n",
    "df_preprocessed = preprocess_dataframe(df_cleaned)\n",
    "\n",
    "pipeline_model = pipeline.fit(df_preprocessed)\n",
    "\n",
    "df_features = pipeline_model.transform(df_preprocessed)"
   ]
  },
  {
   "cell_type": "code",
   "execution_count": 18,
   "id": "b27ba131-6061-415f-bcd4-989ff13d0396",
   "metadata": {},
   "outputs": [
    {
     "name": "stdout",
     "output_type": "stream",
     "text": [
      "+-------------+------+-----------+------------+------------------------------------------------------------------------------------------------------------------------+\n",
      "|UniqueCarrier|Origin|Destination|ArrivalDelay|features                                                                                                                |\n",
      "+-------------+------+-----------+------------+------------------------------------------------------------------------------------------------------------------------+\n",
      "|WN           |ABQ   |BWI        |-27.0       |(7963,[0,67,332,981,7955,7956,7957,7958,7959,7960,7961,7962],[1.0,1.0,1.0,1.0,6.0,7.0,1670.0,7.0,4.0,230.0,193.0,-1.0]) |\n",
      "|WN           |ABQ   |BWI        |1.0         |(7963,[0,67,332,3425,7955,7956,7957,7958,7959,7960,7961,7962],[1.0,1.0,1.0,1.0,6.0,7.0,1670.0,5.0,3.0,230.0,226.0,-3.0])|\n",
      "|WN           |ABQ   |DAL        |-8.0        |(7963,[0,67,355,687,7955,7956,7957,7958,7959,7960,7961,7962],[1.0,1.0,1.0,1.0,6.0,7.0,580.0,6.0,4.0,105.0,79.0,8.0])    |\n",
      "+-------------+------+-----------+------------+------------------------------------------------------------------------------------------------------------------------+\n",
      "only showing top 3 rows\n",
      "\n",
      "Features included in the vector: ['UniqueCarrierVec', 'OriginVec', 'DestinationVec', 'FlightNumVec', 'DayOfWeek', 'Month', 'Distance', 'TaxiOut', 'TaxiIn', 'ScheduledElapsedTime', 'AirTime', 'DepartureDelay']\n",
      "\n",
      "Breakdown of feature vector contents:\n",
      "- Categorical features (one-hot encoded): ['UniqueCarrierVec', 'OriginVec', 'DestinationVec', 'FlightNumVec']\n",
      "- Temporal features: ['DayOfWeek', 'Month']\n",
      "- Numerical features: ['Distance', 'TaxiOut', 'TaxiIn', 'ScheduledElapsedTime', 'AirTime', 'DepartureDelay']\n"
     ]
    }
   ],
   "source": [
    "df_features.select(\"UniqueCarrier\", \"Origin\", \"Destination\", \"ArrivalDelay\", \"features\").show(3, truncate=False)\n",
    "\n",
    "feature_cols = encoder_outputs + temporal_features + numerical_features\n",
    "print(f\"Features included in the vector: {feature_cols}\")\n",
    "\n",
    "print(\"\\nBreakdown of feature vector contents:\")\n",
    "print(f\"- Categorical features (one-hot encoded): {encoder_outputs}\")\n",
    "print(f\"- Temporal features: {temporal_features}\")\n",
    "print(f\"- Numerical features: {numerical_features}\")"
   ]
  },
  {
   "cell_type": "markdown",
   "id": "be4a4fb1-85e9-4aa7-bfb9-54e5ee110464",
   "metadata": {},
   "source": [
    "Feature Selection Decisions:\n",
    "\n",
    "1. Categorical Features:\n",
    "   - UniqueCarrier: Different airlines have different performance metrics\n",
    "   - Origin/Destination: Airports have different weather patterns\n",
    "   - FlightNum: Flight numbers may correlate with specific routes or aircraft types\n",
    "\n",
    "2. Temporal Features:\n",
    "   - DayOfWeek: Flight patterns vary by day of the week\n",
    "   - Month: Seasonal variations in flight performance\n",
    "\n",
    "3. Numerical Features:\n",
    "   - Distance: Directly impacts flight time and potential for delays\n",
    "   - TaxiOut/TaxiIn: Airport ground operations time\n",
    "   - ScheduledElapsedTime: Baseline for expected flight duration\n",
    "   - AirTime: Actual time in the air\n",
    "   - DepartureDelay: Delays at departure often impact arrival time\n",
    "\n",
    "4. Features Not Selected:\n",
    "   - FlightDate: Redundant with DayOfWeek and Month\n",
    "   - ScheduledDepartureTime/ArrivalTime: Could be useful but would need \n",
    "     time-of-day extraction first (e.g., morning vs. evening flights)\n",
    "   - Cancelled and Diverted: Records are already filtered for these\n",
    "   - WheelsOff/WheelsOn: Redundant with other time metrics\n",
    "   - CarrierDelay, WeatherDelay, NASDelay, SecurityDelay, LateAircraftDelay: \n",
    "     These would cause data leakage if predicting arrival delays as they're only \n",
    "     known after a flight is completed\n",
    "\n",
    "5. Data Type Handling:\n",
    "   - Most numerical columns are stored as strings in the dataset\n",
    "   - Added preprocessing step to convert string columns to proper numeric types\n",
    "\n",
    "6. Preprocessing Pipeline:\n",
    "   - Preprocessing: Convert string columns to appropriate numeric types\n",
    "   - StringIndexer: Converts categorical strings to numerical indices\n",
    "   - OneHotEncoder: Creates binary vectors to properly represent categorical data\n",
    "   - VectorAssembler: Combines all features into a single feature vector for modeling"
   ]
  },
  {
   "cell_type": "markdown",
   "id": "e80e2216-ab3f-462a-ba3b-5e659b89e5a4",
   "metadata": {},
   "source": [
    "## Task 5"
   ]
  },
  {
   "cell_type": "code",
   "execution_count": 19,
   "id": "fcc29998-eee4-42da-ab5b-c5b342693db2",
   "metadata": {},
   "outputs": [],
   "source": [
    "# Split data 70/30 train/test (seed 42)\n",
    "df_model = df_features.withColumn(\"label\", F.col(\"Cancelled\").cast(\"double\"))\n",
    "split_ratio = [0.7, 0.3]\n",
    "seed = 42 \n",
    "train_data, test_data = df_model.randomSplit(split_ratio, seed=seed)\n",
    "\n",
    "# Cache the splits for performance during training and evaluation\n",
    "# train_data.cache()\n",
    "# test_data.cache()\n",
    "\n",
    "# print(f\"Training data count: {train_data.count()} ({(train_data.count() / df_model.count())*100:.1f}%)\")\n",
    "# print(f\"Test data count: {test_data.count()} ({(test_data.count() / df_model.count())*100:.1f}%)\")\n"
   ]
  },
  {
   "cell_type": "code",
   "execution_count": 20,
   "id": "ffbfe866-21aa-46e9-b6e9-353c52e543dd",
   "metadata": {},
   "outputs": [],
   "source": [
    "from pyspark.ml.evaluation import BinaryClassificationEvaluator\n",
    "from pyspark.ml.tuning import ParamGridBuilder, CrossValidator\n",
    "import pyspark.sql.functions as F\n",
    "\n",
    "# Evaluator for binary classification, typically uses rawPrediction for AUC by default\n",
    "evaluator = BinaryClassificationEvaluator(labelCol=\"label\", metricName=\"areaUnderROC\")\n",
    "\n",
    "# Define a reusable training and evaluation function for model\n",
    "def train_and_evaluate(model, param_grid, name):\n",
    "    print(f\"\\nTraining {name}...\")\n",
    "    cv = CrossValidator(\n",
    "        estimator=model,\n",
    "        estimatorParamMaps=param_grid,\n",
    "        evaluator=evaluator,\n",
    "        numFolds=3, #3-fold cross-validation\n",
    "        seed=42,\n",
    "        parallelism=4 # train 4 models in parallel (if allows)\n",
    "    )\n",
    "    best_model = cv.fit(train_data) # fit the model on the training data\n",
    "    predictions = best_model.transform(test_data) #Use the best model to make predictions on the test data\n",
    "\n",
    "    # Evaluate Area Under ROC (AUC) and compute accuracy manually\n",
    "    auc = evaluator.evaluate(predictions)\n",
    "    accuracy = predictions.filter(F.col(\"label\") == F.col(\"prediction\")).count() / predictions.count()\n",
    "    print(f\"{name} - AUC: {auc:.4f}, Accuracy: {accuracy:.4f}\")\n",
    "    return name, auc, accuracy, best_model"
   ]
  },
  {
   "cell_type": "code",
   "execution_count": 21,
   "id": "1f4c3f89-9ed7-408d-ae9d-d96a3cd24241",
   "metadata": {},
   "outputs": [
    {
     "name": "stdout",
     "output_type": "stream",
     "text": [
      "\n",
      "Training Logistic Regression...\n",
      "Logistic Regression - AUC: 0.9946, Accuracy: 0.9864\n"
     ]
    }
   ],
   "source": [
    "from pyspark.ml.classification import LogisticRegression, DecisionTreeClassifier, RandomForestClassifier, GBTClassifier\n",
    "# choose one hyperparameter for each model since data is very big\n",
    "# put models to separate cells to run separately\n",
    "# add results here\n",
    "results = []\n",
    "\n",
    "# Logistic Regression\n",
    "lr = LogisticRegression(labelCol=\"label\", featuresCol=\"features\")\n",
    "lr_grid = ParamGridBuilder().addGrid(lr.regParam, [0.1]).build() # prevent overfitting\n",
    "results.append(train_and_evaluate(lr, lr_grid, \"Logistic Regression\"))"
   ]
  },
  {
   "cell_type": "code",
   "execution_count": 22,
   "id": "7b5d8072-7e2f-4367-87b6-d9ce328ef25c",
   "metadata": {},
   "outputs": [
    {
     "name": "stdout",
     "output_type": "stream",
     "text": [
      "\n",
      "Training Decision Tree...\n",
      "Decision Tree - AUC: 1.0000, Accuracy: 1.0000\n"
     ]
    }
   ],
   "source": [
    "# Decision Tree\n",
    "dt = DecisionTreeClassifier(labelCol=\"label\", featuresCol=\"features\")\n",
    "dt_grid = ParamGridBuilder().addGrid(dt.maxDepth, [5]).build() # limit how deep tree grows\n",
    "results.append(train_and_evaluate(dt, dt_grid, \"Decision Tree\"))"
   ]
  },
  {
   "cell_type": "code",
   "execution_count": 23,
   "id": "88db3452-d0ab-4e59-9798-219f7c5f7042",
   "metadata": {},
   "outputs": [
    {
     "name": "stdout",
     "output_type": "stream",
     "text": [
      "\n",
      "Training Random Forest...\n",
      "Random Forest - AUC: 1.0000, Accuracy: 0.9864\n"
     ]
    }
   ],
   "source": [
    "# Random Forest\n",
    "rf = RandomForestClassifier(labelCol=\"label\", featuresCol=\"features\")\n",
    "rf_grid = ParamGridBuilder().addGrid(rf.numTrees, [20]).build() #. how many trees to build\n",
    "results.append(train_and_evaluate(rf, rf_grid, \"Random Forest\"))"
   ]
  },
  {
   "cell_type": "code",
   "execution_count": 24,
   "id": "2b9e7a6f-58c8-4ccb-af77-75592ead8005",
   "metadata": {},
   "outputs": [
    {
     "name": "stdout",
     "output_type": "stream",
     "text": [
      "\n",
      "Training GBT...\n",
      "GBT - AUC: 1.0000, Accuracy: 1.0000\n"
     ]
    }
   ],
   "source": [
    "# GBT\n",
    "gbt = GBTClassifier(labelCol=\"label\", featuresCol=\"features\")\n",
    "gbt_grid = ParamGridBuilder().addGrid(gbt.maxIter, [10]).build() # maximum number of iterations for the optimization algorithm\n",
    "results.append(train_and_evaluate(gbt, gbt_grid, \"GBT\"))"
   ]
  },
  {
   "cell_type": "code",
   "execution_count": 25,
   "id": "bc2001d9-9246-4a53-bfc5-df039e1ebceb",
   "metadata": {},
   "outputs": [],
   "source": [
    "spark.stop()"
   ]
  },
  {
   "cell_type": "code",
   "execution_count": 32,
   "id": "cfee0468-4143-4886-91b4-ba60949e0612",
   "metadata": {},
   "outputs": [
    {
     "data": {
      "text/plain": [
       "[('Logistic Regression', 0.9945903042495142, 0.9864493377968689),\n",
       " ('Decision Tree', 0.9999989462509202, 0.9999974016984577),\n",
       " ('Random Forest', 0.999983848544537, 0.9864493377968689),\n",
       " ('GBT', 0.999999209306869, 0.9999963623778408)]"
      ]
     },
     "execution_count": 32,
     "metadata": {},
     "output_type": "execute_result"
    }
   ],
   "source": [
    "results"
   ]
  },
  {
   "cell_type": "markdown",
   "id": "352a97fb-bbe2-411b-b0db-dedb647cf9f0",
   "metadata": {},
   "source": [
    "## Task 6"
   ]
  },
  {
   "cell_type": "code",
   "execution_count": 24,
   "id": "361cab3b-a576-4e13-a290-4537ac6f69cb",
   "metadata": {},
   "outputs": [
    {
     "name": "stdout",
     "output_type": "stream",
     "text": [
      "\n",
      "Training Decision Tree...\n",
      "Decision Tree - AUC: 1.0000, Accuracy: 1.0000\n"
     ]
    }
   ],
   "source": [
    "name, auc, accuracy, best_model = train_and_evaluate(dt, dt_grid, \"Decision Tree\")"
   ]
  },
  {
   "cell_type": "code",
   "execution_count": 26,
   "id": "6a73ed91-3805-49e1-8ee5-d3cc97d24014",
   "metadata": {},
   "outputs": [
    {
     "data": {
      "text/plain": [
       "SparseVector(7963, {5973: 0.0, 7958: 0.0069, 7959: 0.8032, 7961: 0.1899, 7962: 0.0})"
      ]
     },
     "execution_count": 26,
     "metadata": {},
     "output_type": "execute_result"
    }
   ],
   "source": [
    "best_model.bestModel.featureImportances"
   ]
  },
  {
   "cell_type": "code",
   "execution_count": 34,
   "id": "b574dc76-1db5-4cd2-8f0f-a76f933dd668",
   "metadata": {},
   "outputs": [
    {
     "data": {
      "image/png": "[encoded data removed]",
      "text/plain": [
       "<Figure size 1200x800 with 1 Axes>"
      ]
     },
     "metadata": {},
     "output_type": "display_data"
    }
   ],
   "source": [
    "import pandas as pd\n",
    "\n",
    "feature_importances = best_model.bestModel.featureImportances  # This is your SparseVector\n",
    "\n",
    "importance_df = pd.DataFrame({\n",
    "    \"Feature_Index\": feature_importances.indices,\n",
    "    \"Importance\": feature_importances.values\n",
    "}).sort_values(by=\"Importance\", ascending=False)\n",
    "\n",
    "plt.figure(figsize=(12, 8))\n",
    "plt.barh(importance_df[\"Feature_Index\"].astype(str), importance_df[\"Importance\"], edgecolor=\"black\")\n",
    "plt.xlabel(\"Importance\")\n",
    "plt.title(\"Feature Importances of Decision Tree Model (SparseVector)\")\n",
    "plt.gca().invert_yaxis()\n",
    "plt.show()"
   ]
  },
  {
   "cell_type": "markdown",
   "id": "525ded33-112d-42a5-aa43-34c4a1e92898",
   "metadata": {},
   "source": [
    "## Task 7"
   ]
  },
  {
   "cell_type": "code",
   "execution_count": 39,
   "id": "1de7cedf-4e9d-482e-90e6-6263fea050c4",
   "metadata": {},
   "outputs": [],
   "source": [
    "## Save best model\n",
    "best_model.bestModel.save(\"./best_model\")"
   ]
  },
  {
   "cell_type": "code",
   "execution_count": 46,
   "id": "22ca9813-eeae-4e44-a7b8-77ec97b54359",
   "metadata": {},
   "outputs": [],
   "source": [
    "## Begin 2010 Scoring\n",
    "\n",
    "df_2010 = spark.read.csv('./data/2010.csv', header=True, inferSchema=True)"
   ]
  },
  {
   "cell_type": "code",
   "execution_count": 63,
   "id": "07c39126-4655-4c87-92fb-fd98b5b984eb",
   "metadata": {},
   "outputs": [],
   "source": [
    "df_2010_r = df_2010 \\\n",
    "    .withColumnRenamed(\"FL_DATE\", \"FlightDate\") \\\n",
    "    .withColumnRenamed(\"OP_CARRIER\", \"UniqueCarrier\") \\\n",
    "    .withColumnRenamed(\"OP_CARRIER_FL_NUM\", \"FlightNum\") \\\n",
    "    .withColumnRenamed(\"ORIGIN\", \"Origin\") \\\n",
    "    .withColumnRenamed(\"DEST\", \"Destination\") \\\n",
    "    .withColumnRenamed(\"CRS_DEP_TIME\", \"ScheduledDepartureTime\") \\\n",
    "    .withColumnRenamed(\"DEP_TIME\", \"DepartureTime\") \\\n",
    "    .withColumnRenamed(\"DEP_DELAY\", \"DepartureDelay\") \\\n",
    "    .withColumnRenamed(\"TAXI_OUT\", \"TaxiOut\") \\\n",
    "    .withColumnRenamed(\"WHEELS_OFF\", \"WheelsOff\") \\\n",
    "    .withColumnRenamed(\"WHEELS_ON\", \"WheelsOn\") \\\n",
    "    .withColumnRenamed(\"TAXI_IN\", \"TaxiIn\") \\\n",
    "    .withColumnRenamed(\"CRS_ARR_TIME\", \"ScheduledArrivalTime\") \\\n",
    "    .withColumnRenamed(\"ARR_TIME\", \"ArrivalTime\") \\\n",
    "    .withColumnRenamed(\"ARR_DELAY\", \"ArrivalDelay\") \\\n",
    "    .withColumnRenamed(\"CANCELLED\", \"Cancelled\") \\\n",
    "    .withColumnRenamed(\"CANCELLATION_CODE\", \"CancellationCode\") \\\n",
    "    .withColumnRenamed(\"DIVERTED\", \"Diverted\") \\\n",
    "    .withColumnRenamed(\"CRS_ELAPSED_TIME\", \"ScheduledElapsedTime\") \\\n",
    "    .withColumnRenamed(\"ACTUAL_ELAPSED_TIME\", \"ActualElapsedTime\") \\\n",
    "    .withColumnRenamed(\"AIR_TIME\", \"AirTime\") \\\n",
    "    .withColumnRenamed(\"DISTANCE\", \"Distance\") \\\n",
    "    .withColumnRenamed(\"CARRIER_DELAY\", \"CarrierDelay\") \\\n",
    "    .withColumnRenamed(\"WEATHER_DELAY\", \"WeatherDelay\") \\\n",
    "    .withColumnRenamed(\"NAS_DELAY\", \"NASDelay\") \\\n",
    "    .withColumnRenamed(\"SECURITY_DELAY\", \"SecurityDelay\") \\\n",
    "    .withColumnRenamed(\"LATE_AIRCRAFT_DELAY\", \"LateAircraftDelay\") \\\n",
    "    .withColumn(\"DayOfWeek\", F.dayofweek(F.col(\"FlightDate\"))) \\\n",
    "    .withColumn(\"Month\", F.month(F.col(\"FlightDate\"))) \\\n",
    "    .drop(\"Unnamed: 27\")"
   ]
  },
  {
   "cell_type": "code",
   "execution_count": 64,
   "id": "f556522b-4551-4f36-b58d-6c38971e4333",
   "metadata": {},
   "outputs": [],
   "source": [
    "df_2010_t = pipeline_model.transform(df_2010_r)"
   ]
  },
  {
   "cell_type": "code",
   "execution_count": 66,
   "id": "035ac123-92e4-4f85-b1ec-ba210b39b0da",
   "metadata": {},
   "outputs": [],
   "source": [
    " df_2010_scored = best_model.transform(df_2010_t)"
   ]
  },
  {
   "cell_type": "code",
   "execution_count": 72,
   "id": "79039df3-8d5c-4deb-b20e-dd92bebf8a9c",
   "metadata": {},
   "outputs": [
    {
     "name": "stdout",
     "output_type": "stream",
     "text": [
      "+----------+-------------+---------+------+-----------+----------+\n",
      "|FlightDate|UniqueCarrier|FlightNum|Origin|Destination|prediction|\n",
      "+----------+-------------+---------+------+-----------+----------+\n",
      "|2010-12-20|           OO|     6461|   YUM|        IPL|       1.0|\n",
      "|2010-07-26|           OO|     6461|   YUM|        IPL|       1.0|\n",
      "|2010-12-03|           OO|     6662|   MRY|        SFO|       1.0|\n",
      "|2010-07-26|           OO|     6662|   MRY|        SFO|       1.0|\n",
      "|2010-01-10|           OO|     6684|   CEC|        ACV|       1.0|\n",
      "|2010-10-04|           OO|     6645|   MOD|        SFO|       1.0|\n",
      "|2010-01-11|           OO|     6679|   MRY|        SFO|       1.0|\n",
      "|2010-09-14|           AS|       64|   PSG|        WRG|       1.0|\n",
      "|2010-04-22|           OO|     5885|   ACV|        CEC|       1.0|\n",
      "|2010-09-17|           OO|     6461|   YUM|        IPL|       1.0|\n",
      "|2010-09-03|           OO|     6461|   YUM|        IPL|       1.0|\n",
      "|2010-06-15|           OO|     6645|   MOD|        SFO|       1.0|\n",
      "|2010-02-03|           OO|     6662|   MRY|        SFO|       1.0|\n",
      "|2010-06-16|           OO|     6603|   ACV|        CEC|       1.0|\n",
      "|2010-03-13|           OO|     6475|   YUM|        IPL|       1.0|\n",
      "|2010-06-20|           AS|       64|   PSG|        WRG|       1.0|\n",
      "|2010-02-05|           AS|       65|   WRG|        PSG|       1.0|\n",
      "|2010-11-03|           AS|       65|   WRG|        PSG|       1.0|\n",
      "|2010-03-23|           OO|     6645|   MOD|        SFO|       1.0|\n",
      "|2010-07-17|           OO|     6661|   MOD|        SFO|       1.0|\n",
      "|2010-11-09|           OO|     6461|   YUM|        IPL|       1.0|\n",
      "|2010-04-28|           OO|     5907|   CEC|        ACV|       1.0|\n",
      "|2010-06-09|           HA|      150|   OGG|        KOA|       1.0|\n",
      "|2010-05-05|           OO|     5885|   ACV|        CEC|       1.0|\n",
      "|2010-12-28|           OO|     6461|   YUM|        IPL|       1.0|\n",
      "|2010-05-14|           AS|       64|   PSG|        WRG|       1.0|\n",
      "|2010-07-26|           DL|     2539|   DCA|        ATL|       0.0|\n",
      "|2010-11-17|           DL|     1829|   GRR|        DTW|       0.0|\n",
      "|2010-07-26|           DL|     2541|   CLT|        MSP|       0.0|\n",
      "|2010-01-01|           MQ|     4438|   LGA|        RDU|       0.0|\n",
      "|2010-07-26|           DL|     2543|   MSP|        SAT|       0.0|\n",
      "|2010-11-17|           DL|     1829|   DTW|        MIA|       0.0|\n",
      "|2010-07-26|           DL|     2544|   SAN|        MSP|       0.0|\n",
      "|2010-10-02|           FL|      314|   ATL|        CLT|       0.0|\n",
      "|2010-07-26|           DL|     2545|   DTW|        SFO|       0.0|\n",
      "|2010-11-17|           DL|     1830|   PDX|        SLC|       0.0|\n",
      "|2010-07-26|           DL|     2547|   LGA|        ATL|       0.0|\n",
      "|2010-01-01|           MQ|     4440|   DCA|        JFK|       0.0|\n",
      "|2010-07-26|           DL|     2548|   RSW|        LGA|       0.0|\n",
      "|2010-11-17|           DL|     1830|   SLC|        JFK|       0.0|\n",
      "|2010-07-26|           DL|     2549|   MEM|        SEA|       0.0|\n",
      "|2010-02-18|           AS|       14|   SEA|        EWR|       0.0|\n",
      "|2010-07-26|           DL|     2550|   SEA|        SLC|       0.0|\n",
      "|2010-11-17|           DL|     1831|   PDX|        SLC|       0.0|\n",
      "|2010-07-26|           DL|     2551|   LGA|        PBI|       0.0|\n",
      "|2010-01-01|           MQ|     4443|   LGA|        RDU|       0.0|\n",
      "|2010-07-26|           DL|     2552|   TPA|        LGA|       0.0|\n",
      "|2010-11-17|           DL|     1831|   SLC|        MCO|       0.0|\n",
      "|2010-07-26|           DL|     2553|   LGA|        TPA|       0.0|\n",
      "|2010-10-02|           FL|      323|   ATL|        CLT|       0.0|\n",
      "|2010-07-26|           DL|     2554|   SFO|        DTW|       0.0|\n",
      "|2010-11-17|           DL|     1832|   ORD|        MSP|       0.0|\n",
      "|2010-07-26|           DL|     2555|   LGA|        PBI|       0.0|\n",
      "|2010-01-01|           MQ|     4445|   RDU|        LGA|       0.0|\n",
      "|2010-07-26|           DL|     2556|   PDX|        MSP|       0.0|\n",
      "|2010-11-17|           DL|     1833|   CVG|        LAX|       0.0|\n",
      "|2010-07-26|           DL|     2556|   MSP|        MKE|       0.0|\n",
      "|2010-09-09|           9E|     4325|   MEM|        SHV|       0.0|\n",
      "|2010-07-26|           DL|     2557|   JFK|        SAN|       0.0|\n",
      "|2010-11-17|           DL|     1834|   ATL|        MCI|       0.0|\n",
      "|2010-07-26|           DL|     2559|   MEM|        SLC|       0.0|\n",
      "|2010-01-01|           MQ|     4447|   JFK|        DCA|       0.0|\n",
      "|2010-07-26|           DL|     2559|   SLC|        PDX|       0.0|\n",
      "|2010-11-17|           DL|     1835|   ATL|        SLC|       0.0|\n",
      "|2010-07-26|           DL|     2560|   MIA|        ATL|       0.0|\n",
      "|2010-10-02|           FL|      517|   ATL|        CMH|       0.0|\n",
      "|2010-07-26|           DL|     2561|   PHL|        ATL|       0.0|\n",
      "|2010-11-17|           DL|     1836|   IND|        DTW|       0.0|\n",
      "|2010-07-26|           DL|     2562|   LAX|        JFK|       0.0|\n",
      "|2010-01-01|           MQ|     4448|   DCA|        JFK|       0.0|\n",
      "|2010-07-26|           DL|     2565|   BHM|        ATL|       0.0|\n",
      "|2010-11-17|           DL|     1836|   DTW|        BWI|       0.0|\n",
      "|2010-07-26|           DL|     2565|   ATL|        PDX|       0.0|\n",
      "|2010-02-18|           AS|      648|   SEA|        TUS|       0.0|\n",
      "|2010-07-26|           DL|     2567|   PIT|        DTW|       0.0|\n",
      "|2010-11-17|           DL|     1837|   PNS|        ATL|       0.0|\n",
      "|2010-07-26|           DL|     2567|   DTW|        ORD|       0.0|\n",
      "|2010-01-01|           MQ|     4449|   RDU|        LGA|       0.0|\n",
      "|2010-07-26|           DL|     2568|   SEA|        ATL|       0.0|\n",
      "|2010-11-17|           DL|     1838|   SAV|        ATL|       0.0|\n",
      "|2010-07-26|           DL|     2568|   ATL|        TPA|       0.0|\n",
      "|2010-10-02|           FL|      519|   ATL|        CMH|       0.0|\n",
      "|2010-07-26|           DL|     2569|   ATL|        MCO|       0.0|\n",
      "|2010-11-17|           DL|     1838|   ATL|        DCA|       0.0|\n",
      "|2010-07-26|           DL|     2570|   MSP|        EWR|       0.0|\n",
      "|2010-01-01|           MQ|     4450|   DCA|        JFK|       0.0|\n",
      "|2010-07-26|           DL|     2571|   ATL|        PBI|       0.0|\n",
      "|2010-11-17|           DL|     1839|   DCA|        ATL|       0.0|\n",
      "|2010-07-26|           DL|     2572|   STL|        DTW|       0.0|\n",
      "|2010-04-05|           B6|     1087|   JFK|        CLT|       0.0|\n",
      "|2010-07-26|           DL|     2573|   ATL|        MIA|       0.0|\n",
      "|2010-11-17|           DL|     1840|   LIH|        LAX|       0.0|\n",
      "|2010-07-26|           DL|     2574|   BZN|        MSP|       0.0|\n",
      "|2010-01-01|           MQ|     4454|   DCA|        JFK|       0.0|\n",
      "|2010-07-26|           DL|     2575|   ATL|        MEM|       0.0|\n",
      "|2010-11-17|           DL|     1841|   ATL|        SMF|       0.0|\n",
      "|2010-07-26|           DL|     2576|   BNA|        DTW|       0.0|\n",
      "|2010-10-02|           FL|      709|   ATL|        DAY|       0.0|\n",
      "|2010-07-26|           DL|     2578|   SAN|        SLC|       0.0|\n",
      "|2010-11-17|           DL|     1842|   SAT|        ATL|       0.0|\n",
      "+----------+-------------+---------+------+-----------+----------+\n",
      "only showing top 100 rows\n",
      "\n"
     ]
    }
   ],
   "source": [
    "df_2010_scored.orderBy(F.desc(\"prediction\")).select(\"FlightDate\", \"UniqueCarrier\", \"FlightNum\", \"Origin\", \"Destination\", \"prediction\").show(100)"
   ]
  }
 ],
 "metadata": {
  "kernelspec": {
   "display_name": "Python 3 (ipykernel)",
   "language": "python",
   "name": "python3"
  },
  "language_info": {
   "codemirror_mode": {
    "name": "ipython",
    "version": 3
   },
   "file_extension": ".py",
   "mimetype": "text/x-python",
   "name": "python",
   "nbconvert_exporter": "python",
   "pygments_lexer": "ipython3",
   "version": "3.11.10"
  }
 },
 "nbformat": 4,
 "nbformat_minor": 5
}
